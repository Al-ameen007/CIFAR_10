{
  "cells": [
    {
      "cell_type": "markdown",
      "metadata": {
        "id": "view-in-github",
        "colab_type": "text"
      },
      "source": [
        "<a href=\"https://colab.research.google.com/github/Al-ameen007/CIFAR_10/blob/main/Ml_Project_1.ipynb\" target=\"_parent\"><img src=\"https://colab.research.google.com/assets/colab-badge.svg\" alt=\"Open In Colab\"/></a>"
      ]
    },
    {
      "cell_type": "markdown",
      "metadata": {
        "id": "ug5JIxQF_XAw"
      },
      "source": [
        "# Theoritcal Foundation of Machine Learning Final Project \n",
        "\n",
        "\n",
        "1.   Youseef Osama Ahmed 20190629\n",
        "2.   Mohamed Alameen AbdAlziz 20190720\n",
        "3.   Osama Khaled Abd-Alghafar\n",
        "4.   Solhof\n",
        "5.   Amira\n",
        "\n"
      ],
      "id": "ug5JIxQF_XAw"
    },
    {
      "cell_type": "code",
      "execution_count": 1,
      "metadata": {
        "id": "e201e094"
      },
      "outputs": [],
      "source": [
        "import numpy as np"
      ],
      "id": "e201e094"
    },
    {
      "cell_type": "markdown",
      "metadata": {
        "id": "-Mb3qDer_EAE"
      },
      "source": [
        "# Loading the data\n",
        "Using the keras datasets to load the data, the data is already splitied into train and test sets.\n",
        "We just going to take a portion of the train to make a validation set"
      ],
      "id": "-Mb3qDer_EAE"
    },
    {
      "cell_type": "code",
      "execution_count": 2,
      "metadata": {
        "id": "e44f28f7",
        "colab": {
          "base_uri": "https://localhost:8080/"
        },
        "outputId": "788a28f6-5a24-434d-8081-499bb6112b30"
      },
      "outputs": [
        {
          "output_type": "stream",
          "name": "stdout",
          "text": [
            "Downloading data from https://www.cs.toronto.edu/~kriz/cifar-10-python.tar.gz\n",
            "170500096/170498071 [==============================] - 4s 0us/step\n",
            "170508288/170498071 [==============================] - 4s 0us/step\n"
          ]
        }
      ],
      "source": [
        "from keras.datasets import cifar10\n",
        "(X_train, y_train), (X_test, y_test) = cifar10.load_data()"
      ],
      "id": "e44f28f7"
    },
    {
      "cell_type": "markdown",
      "metadata": {
        "id": "ro010urCCIUO"
      },
      "source": [
        "# Exploring the Data"
      ],
      "id": "ro010urCCIUO"
    },
    {
      "cell_type": "code",
      "execution_count": 3,
      "metadata": {
        "colab": {
          "base_uri": "https://localhost:8080/",
          "height": 284
        },
        "id": "IdRT33ujCHw6",
        "outputId": "9e982067-aa6b-4f7a-dbad-c78d732901bd"
      },
      "outputs": [
        {
          "output_type": "execute_result",
          "data": {
            "text/plain": [
              "(<matplotlib.image.AxesImage at 0x7f8e2eb39510>, array([9], dtype=uint8))"
            ]
          },
          "metadata": {},
          "execution_count": 3
        },
        {
          "output_type": "display_data",
          "data": {
            "image/png": "[encoded data removed]",
            "text/plain": [
              "<Figure size 432x288 with 1 Axes>"
            ]
          },
          "metadata": {
            "needs_background": "light"
          }
        }
      ],
      "source": [
        "import matplotlib.pyplot as plt\n",
        "index = 88\n",
        "plt.imshow(X_train[index]), y_train[index]"
      ],
      "id": "IdRT33ujCHw6"
    },
    {
      "cell_type": "markdown",
      "metadata": {
        "id": "4hq9vOyijPbk"
      },
      "source": [
        "some image are too bad even a human being can't recognize it given the following image which is suppose to be for a **Deer**"
      ],
      "id": "4hq9vOyijPbk"
    },
    {
      "cell_type": "code",
      "execution_count": 4,
      "metadata": {
        "colab": {
          "base_uri": "https://localhost:8080/",
          "height": 284
        },
        "id": "eRrO6_TTjYI_",
        "outputId": "642667e0-8b79-4939-eaec-0e60e0f040ea"
      },
      "outputs": [
        {
          "output_type": "execute_result",
          "data": {
            "text/plain": [
              "(<matplotlib.image.AxesImage at 0x7f8e2e5e1690>, array([4], dtype=uint8))"
            ]
          },
          "metadata": {},
          "execution_count": 4
        },
        {
          "output_type": "display_data",
          "data": {
            "image/png": "[encoded data removed]",
            "text/plain": [
              "<Figure size 432x288 with 1 Axes>"
            ]
          },
          "metadata": {
            "needs_background": "light"
          }
        }
      ],
      "source": [
        "plt.imshow(X_train[10]), y_train[10]"
      ],
      "id": "eRrO6_TTjYI_"
    },
    {
      "cell_type": "code",
      "execution_count": 5,
      "metadata": {
        "id": "P8X5EVEsGt0A"
      },
      "outputs": [],
      "source": [
        "labels = {1:  'airplane',   #back to the documntation\n",
        "          2:  'bird', \n",
        "          3:  'cat', \n",
        "          4:  'deer', \n",
        "          5:  'dog', \n",
        "          6:  'frog', \n",
        "          7:  'horse', \n",
        "          8:  'ship', \n",
        "          9:  'truck'}"
      ],
      "id": "P8X5EVEsGt0A"
    },
    {
      "cell_type": "code",
      "execution_count": 6,
      "metadata": {
        "colab": {
          "base_uri": "https://localhost:8080/"
        },
        "id": "0xnDO51hI4lB",
        "outputId": "9d4b9494-8658-43e7-887e-7f3bcb37ec58"
      },
      "outputs": [
        {
          "output_type": "execute_result",
          "data": {
            "text/plain": [
              "{0: 5000,\n",
              " 1: 5000,\n",
              " 2: 5000,\n",
              " 3: 5000,\n",
              " 4: 5000,\n",
              " 5: 5000,\n",
              " 6: 5000,\n",
              " 7: 5000,\n",
              " 8: 5000,\n",
              " 9: 5000}"
            ]
          },
          "metadata": {},
          "execution_count": 6
        }
      ],
      "source": [
        "unique, counts = np.unique(y_train, return_counts=True) #all the classes equal to each other\n",
        "dict(zip(unique, counts))"
      ],
      "id": "0xnDO51hI4lB"
    },
    {
      "cell_type": "markdown",
      "metadata": {
        "id": "AyaWCW3xbZns"
      },
      "source": [
        "# Data Preprocessing"
      ],
      "id": "AyaWCW3xbZns"
    },
    {
      "cell_type": "markdown",
      "metadata": {
        "id": "CXDgnllgowxh"
      },
      "source": [
        "## Avg Pooling"
      ],
      "id": "CXDgnllgowxh"
    },
    {
      "cell_type": "markdown",
      "metadata": {
        "id": "5yTeOWZ2b30u"
      },
      "source": [
        " looking at the first image at the first pixel (0, 0) coordinates,at each pixel we got three RGB values and we are going to replace them by a single value computed by their avreage."
      ],
      "id": "5yTeOWZ2b30u"
    },
    {
      "cell_type": "code",
      "execution_count": 7,
      "metadata": {
        "id": "H3lrd0r5bfzN"
      },
      "outputs": [],
      "source": [
        "def avg_pixels(data):\n",
        "  data_avg = data.copy()\n",
        "  for i in range(len(data)): #looping over the data\n",
        "    for x in range(len(data[0])): #looping over the x_coordinates\n",
        "      for y in range(len(data[0].T[0])): #looping over the y_coordinates\n",
        "        data_avg[i][x][y] = np.average(data[i][x][y])\n",
        "  return data_avg"
      ],
      "id": "H3lrd0r5bfzN"
    },
    {
      "cell_type": "code",
      "execution_count": 8,
      "metadata": {
        "id": "Shkm1OKwkohB"
      },
      "outputs": [],
      "source": [
        "X_train_avg = avg_pixels(X_train)"
      ],
      "id": "Shkm1OKwkohB"
    },
    {
      "cell_type": "code",
      "execution_count": 9,
      "metadata": {
        "colab": {
          "base_uri": "https://localhost:8080/"
        },
        "id": "0U-A3gDqeD5-",
        "outputId": "1b61ff40-dfba-4f2e-c539-ab5b494904ce"
      },
      "outputs": [
        {
          "output_type": "execute_result",
          "data": {
            "text/plain": [
              "50000"
            ]
          },
          "metadata": {},
          "execution_count": 9
        }
      ],
      "source": [
        "len(X_train_avg) #for debugging"
      ],
      "id": "0U-A3gDqeD5-"
    },
    {
      "cell_type": "markdown",
      "metadata": {
        "id": "UeN80xRYj0Ed"
      },
      "source": [
        "After Averging the images there is no change, they are only converted into gray images like the following examples"
      ],
      "id": "UeN80xRYj0Ed"
    },
    {
      "cell_type": "code",
      "execution_count": 10,
      "metadata": {
        "colab": {
          "base_uri": "https://localhost:8080/",
          "height": 286
        },
        "id": "j2UEX0TJlO3W",
        "outputId": "cb981630-c6dd-4cde-fe2c-99834b8076e3"
      },
      "outputs": [
        {
          "output_type": "execute_result",
          "data": {
            "text/plain": [
              "<matplotlib.image.AxesImage at 0x7f8e2e4b08d0>"
            ]
          },
          "metadata": {},
          "execution_count": 10
        },
        {
          "output_type": "display_data",
          "data": {
            "image/png": "[encoded data removed]",
            "text/plain": [
              "<Figure size 432x288 with 4 Axes>"
            ]
          },
          "metadata": {
            "needs_background": "light"
          }
        }
      ],
      "source": [
        "f, axarr = plt.subplots(2,2)\n",
        "axarr[0,0].imshow(X_train[1])\n",
        "axarr[0,1].imshow(X_train_avg[1])\n",
        "axarr[1,0].imshow(X_train[100])\n",
        "axarr[1,1].imshow(X_train_avg[100])"
      ],
      "id": "j2UEX0TJlO3W"
    },
    {
      "cell_type": "markdown",
      "metadata": {
        "id": "_Cta3hNuxHu0"
      },
      "source": [
        "Since now all the RGB channels got the same value no need to keep them all, instead we are going to keep only a single chanel, converting each image into a 32x32 matrix, which will provide an efficient way in computation      \n",
        "ex. the first pixel of the first image will get the values (61, 61, 61) so  we will make it one channel (61)"
      ],
      "id": "_Cta3hNuxHu0"
    },
    {
      "cell_type": "code",
      "execution_count": 11,
      "metadata": {
        "colab": {
          "base_uri": "https://localhost:8080/"
        },
        "id": "Zj3vSERnxmCY",
        "outputId": "9490b265-398f-447f-f7fd-dd62d2f1d3c3"
      },
      "outputs": [
        {
          "output_type": "execute_result",
          "data": {
            "text/plain": [
              "array([61, 61, 61], dtype=uint8)"
            ]
          },
          "metadata": {},
          "execution_count": 11
        }
      ],
      "source": [
        "X_train_avg[0][0][0]"
      ],
      "id": "Zj3vSERnxmCY"
    },
    {
      "cell_type": "code",
      "execution_count": 12,
      "metadata": {
        "id": "IpPzTiJc04A4"
      },
      "outputs": [],
      "source": [
        "def convert(data):\n",
        "  imgs = []\n",
        "  for i in range(len(data)):\n",
        "    img = []\n",
        "    for j in range(len(data[0])):\n",
        "      tmp = [int(np.unique(hold)[0]) for hold in X_train_avg[i][j]]\n",
        "      img.append(tmp)\n",
        "    imgs.append(img)\n",
        "  return np.asarray(imgs)"
      ],
      "id": "IpPzTiJc04A4"
    },
    {
      "cell_type": "code",
      "execution_count": 13,
      "metadata": {
        "id": "N59dy16f4TCm"
      },
      "outputs": [],
      "source": [
        "X_train_conv = convert(X_train_avg)"
      ],
      "id": "N59dy16f4TCm"
    },
    {
      "cell_type": "code",
      "source": [
        "def transform(data):\n",
        "  transformed_data = avg_pixels(data)\n",
        "  return convert(transformed_data)"
      ],
      "metadata": {
        "id": "G_wqBSSPkTQv"
      },
      "id": "G_wqBSSPkTQv",
      "execution_count": null,
      "outputs": []
    },
    {
      "cell_type": "code",
      "execution_count": 14,
      "metadata": {
        "colab": {
          "base_uri": "https://localhost:8080/"
        },
        "id": "aL8d1jVHeto_",
        "outputId": "e2cebce0-5be4-47e7-a93a-318376b7a3d2"
      },
      "outputs": [
        {
          "output_type": "execute_result",
          "data": {
            "text/plain": [
              "50000"
            ]
          },
          "metadata": {},
          "execution_count": 14
        }
      ],
      "source": [
        "len(X_train_conv)"
      ],
      "id": "aL8d1jVHeto_"
    },
    {
      "cell_type": "markdown",
      "metadata": {
        "id": "kUgsZhQ46LZy"
      },
      "source": [
        "a sample for converted image into 32 * 32 "
      ],
      "id": "kUgsZhQ46LZy"
    },
    {
      "cell_type": "code",
      "execution_count": 15,
      "metadata": {
        "colab": {
          "base_uri": "https://localhost:8080/"
        },
        "id": "KkdkIq4O6FWf",
        "outputId": "6140d797-d4d3-436c-b407-407e950c1f78"
      },
      "outputs": [
        {
          "output_type": "execute_result",
          "data": {
            "text/plain": [
              "7328586"
            ]
          },
          "metadata": {},
          "execution_count": 15
        }
      ],
      "source": [
        "max(X_train_conv[0].flatten()) * 29791"
      ],
      "id": "KkdkIq4O6FWf"
    },
    {
      "cell_type": "markdown",
      "metadata": {
        "id": "-2WRNc6OtGXm"
      },
      "source": [
        "## Applying the momentum "
      ],
      "id": "-2WRNc6OtGXm"
    },
    {
      "cell_type": "code",
      "execution_count": 16,
      "metadata": {
        "id": "Lc-4mLD3tLm_"
      },
      "outputs": [],
      "source": [
        "def c_momentum(data, c = 3):\n",
        "  m_data = []\n",
        "  mean_x = (len(data[0][0]) + 1) / 2\n",
        "  mean_y = (len(data[0][0].T) + 1) / 2\n",
        "  for img in data:\n",
        "    ms = []\n",
        "    for p in range(c+1):\n",
        "      for q in range(c+1):\n",
        "        if p + q <= c:\n",
        "          tmp = np.multiply((np.power(np.arange(len(data[0][0])) - mean_x, p) * np.power(np.arange(len(data[0].T[0] - mean_y)), q)) , img)\n",
        "          ms.append(tmp.sum().sum())\n",
        "    m_data.append(ms)\n",
        "  return np.asarray(m_data)"
      ],
      "id": "Lc-4mLD3tLm_"
    },
    {
      "cell_type": "code",
      "execution_count": 17,
      "metadata": {
        "id": "qjlRtK1HE7NZ"
      },
      "outputs": [],
      "source": [
        "X_train_m = c_momentum(X_train_conv, c  = 3)"
      ],
      "id": "qjlRtK1HE7NZ"
    },
    {
      "cell_type": "code",
      "source": [
        "len(X_train_m[0])"
      ],
      "metadata": {
        "colab": {
          "base_uri": "https://localhost:8080/"
        },
        "id": "jpy_GW24m9HN",
        "outputId": "135d6570-32a5-4a9a-c3bb-0b51d52ddd7c"
      },
      "id": "jpy_GW24m9HN",
      "execution_count": 18,
      "outputs": [
        {
          "output_type": "execute_result",
          "data": {
            "text/plain": [
              "10"
            ]
          },
          "metadata": {},
          "execution_count": 18
        }
      ]
    },
    {
      "cell_type": "code",
      "execution_count": 19,
      "metadata": {
        "colab": {
          "base_uri": "https://localhost:8080/"
        },
        "id": "GWm2eQB-fGYZ",
        "outputId": "ce77c0bd-f370-45a3-c164-fc5c4c73fc16"
      },
      "outputs": [
        {
          "output_type": "execute_result",
          "data": {
            "text/plain": [
              "50000"
            ]
          },
          "metadata": {},
          "execution_count": 19
        }
      ],
      "source": [
        "len(X_train_m)"
      ],
      "id": "GWm2eQB-fGYZ"
    },
    {
      "cell_type": "code",
      "execution_count": 20,
      "metadata": {
        "colab": {
          "base_uri": "https://localhost:8080/"
        },
        "id": "gUYRk6bBFJOR",
        "outputId": "6a70790c-3c46-4ee1-dd50-0a63c7b273f7"
      },
      "outputs": [
        {
          "output_type": "execute_result",
          "data": {
            "text/plain": [
              "array([ 1.05589000e+05,  1.63695100e+06,  3.37076310e+07,  7.79918347e+08,\n",
              "       -1.05267500e+05,  6.69793950e+06,  2.23742436e+08,  8.43485325e+06,\n",
              "        1.13226434e+08, -2.59486449e+07])"
            ]
          },
          "metadata": {},
          "execution_count": 20
        }
      ],
      "source": [
        "X_train_m[0]"
      ],
      "id": "gUYRk6bBFJOR"
    },
    {
      "cell_type": "markdown",
      "metadata": {
        "id": "FVAE3H1KQvak"
      },
      "source": [
        "## Spliting the train data into train and validation by 10%"
      ],
      "id": "FVAE3H1KQvak"
    },
    {
      "cell_type": "code",
      "execution_count": 21,
      "metadata": {
        "id": "lYN02DtKKs16"
      },
      "outputs": [],
      "source": [
        "from sklearn.model_selection import train_test_split\n",
        "X_trainn, X_val, y_trainn, y_val = train_test_split(X_train_m, y_train, test_size=0.1)"
      ],
      "id": "lYN02DtKKs16"
    },
    {
      "cell_type": "code",
      "execution_count": 22,
      "metadata": {
        "colab": {
          "base_uri": "https://localhost:8080/"
        },
        "id": "yn1oasMBK6Yw",
        "outputId": "6e0ab754-249b-41d5-ecd6-c39bafa5a74d"
      },
      "outputs": [
        {
          "output_type": "execute_result",
          "data": {
            "text/plain": [
              "(45000, 5000)"
            ]
          },
          "metadata": {},
          "execution_count": 22
        }
      ],
      "source": [
        "len(X_trainn), len(X_val)"
      ],
      "id": "yn1oasMBK6Yw"
    },
    {
      "cell_type": "markdown",
      "metadata": {
        "id": "OmRLALflQ8S0"
      },
      "source": [
        "# Building the Model\n"
      ],
      "id": "OmRLALflQ8S0"
    },
    {
      "cell_type": "markdown",
      "source": [
        "As we can see below many diffrient models with diffrient hyperparamters couldn't catch the complexity of the model even the SVMs with rbf and polynomial kernal. this might be due to many resons\n",
        "\n",
        "\n",
        "*   Quality of the data, data doesn't have enough information\n",
        "*   simplicity of the models, even tuning the hyper-parapmeters won't add that much\n",
        "*   increasing the number of the instances will not add to much, models are too simple \n",
        "\n",
        "\n",
        "*   CNN as we see below are a much more complex model enabling them to detect patterns, edges, ..etc, perform much better\n",
        "\n",
        "\n",
        "\n"
      ],
      "metadata": {
        "id": "_mH7niRCEVNh"
      },
      "id": "_mH7niRCEVNh"
    },
    {
      "cell_type": "markdown",
      "metadata": {
        "id": "zEttRnd1RA6c"
      },
      "source": [
        "## SVM"
      ],
      "id": "zEttRnd1RA6c"
    },
    {
      "cell_type": "code",
      "execution_count": 23,
      "metadata": {
        "id": "XpNW52s1LIip"
      },
      "outputs": [],
      "source": [
        "from sklearn.svm import SVC\n",
        "from sklearn.metrics import accuracy_score"
      ],
      "id": "XpNW52s1LIip"
    },
    {
      "cell_type": "code",
      "execution_count": null,
      "metadata": {
        "colab": {
          "base_uri": "https://localhost:8080/"
        },
        "id": "lreMsnq0Rc2t",
        "outputId": "d2281aa8-2e92-4a39-cf0c-32a9d6f14182"
      },
      "outputs": [
        {
          "output_type": "execute_result",
          "data": {
            "text/plain": [
              "SVC()"
            ]
          },
          "metadata": {},
          "execution_count": 27
        }
      ],
      "source": [
        "svc1 = SVC()\n",
        "svc1.fit(X_trainn, y_trainn.ravel())\n",
        "svc2 = SVC(kernel='poly', degree=3)\n",
        "svc2.fit(X_trainn, y_trainn.ravel())\n",
        "svc3 = SVC(kernel='sigmoid', gamma='auto')\n",
        "svc3.fit(X_trainn, y_trainn.ravel())"
      ],
      "id": "lreMsnq0Rc2t"
    },
    {
      "cell_type": "code",
      "execution_count": null,
      "metadata": {
        "colab": {
          "base_uri": "https://localhost:8080/"
        },
        "id": "PaTyibO1UtF5",
        "outputId": "cd47195f-3070-450a-c828-d4f8fe9c545d"
      },
      "outputs": [
        {
          "output_type": "execute_result",
          "data": {
            "text/plain": [
              "0.1874"
            ]
          },
          "metadata": {},
          "execution_count": 29
        }
      ],
      "source": [
        "accuracy_score(svc1.predict(X_val), y_val)\n",
        "accuracy_score(svc2.predict(X_val), y_val)\n",
        "accuracy_score(svc2.predict(X_val), y_val)"
      ],
      "id": "PaTyibO1UtF5"
    },
    {
      "cell_type": "markdown",
      "source": [
        "##Random Forest\n"
      ],
      "metadata": {
        "id": "r_BsNkNQDjYZ"
      },
      "id": "r_BsNkNQDjYZ"
    },
    {
      "cell_type": "code",
      "source": [
        "from sklearn.ensemble import RandomForestClassifier"
      ],
      "metadata": {
        "id": "ibJ69I_mDnsq"
      },
      "id": "ibJ69I_mDnsq",
      "execution_count": null,
      "outputs": []
    },
    {
      "cell_type": "code",
      "source": [
        "forest1 = RandomForestClassifier(criterion='entropy', max_depth=50)\n",
        "forest1.fit(X_trainn, y_trainn.ravel())\n",
        "forest2 = RandomForestClassifier(criterion='gini', max_depth=70)\n",
        "forest2.fit(X_trainn, y_trainn.ravel())\n",
        "forest3 = RandomForestClassifier(criterion='entropy', max_depth=100)\n",
        "forest3.fit(X_trainn, y_trainn.ravel())"
      ],
      "metadata": {
        "colab": {
          "base_uri": "https://localhost:8080/"
        },
        "id": "pis2tlg7Dvw2",
        "outputId": "461c2f1e-bddd-434f-dfa7-476e6b0684b1"
      },
      "id": "pis2tlg7Dvw2",
      "execution_count": null,
      "outputs": [
        {
          "output_type": "execute_result",
          "data": {
            "text/plain": [
              "RandomForestClassifier(criterion='entropy', max_depth=70)"
            ]
          },
          "metadata": {},
          "execution_count": 35
        }
      ]
    },
    {
      "cell_type": "code",
      "source": [
        "accuracy_score(forest1.predict(X_val), y_val)\n",
        "accuracy_score(forest2.predict(X_val), y_val)\n",
        "accuracy_score(forest3.predict(X_val), y_val)"
      ],
      "metadata": {
        "colab": {
          "base_uri": "https://localhost:8080/"
        },
        "id": "bFinB4ioEP9d",
        "outputId": "66c56be6-c95a-413d-f084-1c9e25ad7148"
      },
      "id": "bFinB4ioEP9d",
      "execution_count": null,
      "outputs": [
        {
          "output_type": "execute_result",
          "data": {
            "text/plain": [
              "0.1842"
            ]
          },
          "metadata": {},
          "execution_count": 36
        }
      ]
    },
    {
      "cell_type": "markdown",
      "source": [
        "##Decision Tree\n"
      ],
      "metadata": {
        "id": "EU9kibyaE_Lw"
      },
      "id": "EU9kibyaE_Lw"
    },
    {
      "cell_type": "code",
      "source": [
        "from sklearn.tree import DecisionTreeClassifier"
      ],
      "metadata": {
        "id": "mkEc6Fc8ETn0"
      },
      "id": "mkEc6Fc8ETn0",
      "execution_count": null,
      "outputs": []
    },
    {
      "cell_type": "code",
      "source": [
        "tree1 = DecisionTreeClassifier(criterion='entropy', max_depth=100)\n",
        "tree1.fit(X_trainn, y_trainn.ravel())\n",
        "tree2 = DecisionTreeClassifier(criterion='entropy', max_depth=150)\n",
        "tree2.fit(X_trainn, y_trainn.ravel())\n",
        "tree3 = DecisionTreeClassifier(criterion='gini', max_depth=200)\n",
        "tree3.fit(X_trainn, y_trainn.ravel())"
      ],
      "metadata": {
        "colab": {
          "base_uri": "https://localhost:8080/"
        },
        "id": "eh7U9QsEFFbR",
        "outputId": "e6e42cd9-f6d2-4d3e-a94a-867653d21927"
      },
      "id": "eh7U9QsEFFbR",
      "execution_count": null,
      "outputs": [
        {
          "output_type": "execute_result",
          "data": {
            "text/plain": [
              "DecisionTreeClassifier(criterion='entropy', max_depth=100)"
            ]
          },
          "metadata": {},
          "execution_count": 39
        }
      ]
    },
    {
      "cell_type": "code",
      "source": [
        "accuracy_score(tree1.predict(X_val), y_val)\n",
        "accuracy_score(tree2.predict(X_val), y_val)\n",
        "accuracy_score(tree3.predict(X_val), y_val)"
      ],
      "metadata": {
        "colab": {
          "base_uri": "https://localhost:8080/"
        },
        "id": "xO5E5VSYFLJK",
        "outputId": "7a8ae1ee-1cdc-4f0f-a39b-c0b9e859e983"
      },
      "id": "xO5E5VSYFLJK",
      "execution_count": null,
      "outputs": [
        {
          "output_type": "execute_result",
          "data": {
            "text/plain": [
              "0.1388"
            ]
          },
          "metadata": {},
          "execution_count": 40
        }
      ]
    },
    {
      "cell_type": "markdown",
      "source": [
        "##KNN\n"
      ],
      "metadata": {
        "id": "Of5SAIkkFRtw"
      },
      "id": "Of5SAIkkFRtw"
    },
    {
      "cell_type": "code",
      "source": [
        "from sklearn.neighbors import KNeighborsClassifier"
      ],
      "metadata": {
        "id": "Jl21DYseFTkm"
      },
      "id": "Jl21DYseFTkm",
      "execution_count": null,
      "outputs": []
    },
    {
      "cell_type": "code",
      "source": [
        "knn1 = KNeighborsClassifier(n_neighbors=4)\n",
        "knn1.fit(X_trainn, y_trainn.ravel())\n",
        "knn2 = KNeighborsClassifier(n_neighbors=6)\n",
        "knn2.fit(X_trainn, y_trainn.ravel())\n",
        "knn3 = KNeighborsClassifier(n_neighbors=8)\n",
        "knn3.fit(X_trainn, y_trainn.ravel())"
      ],
      "metadata": {
        "colab": {
          "base_uri": "https://localhost:8080/"
        },
        "id": "NFJFt_LwFg-A",
        "outputId": "ec1d3a18-6eee-49dd-f322-6ea1aa4d6c42"
      },
      "id": "NFJFt_LwFg-A",
      "execution_count": null,
      "outputs": [
        {
          "output_type": "execute_result",
          "data": {
            "text/plain": [
              "KNeighborsClassifier(n_neighbors=6)"
            ]
          },
          "metadata": {},
          "execution_count": 42
        }
      ]
    },
    {
      "cell_type": "code",
      "source": [
        "accuracy_score(knn1.predict(X_val), y_val)\n",
        "accuracy_score(knn2.predict(X_val), y_val)\n",
        "accuracy_score(knn3.predict(X_val), y_val)"
      ],
      "metadata": {
        "id": "okUIHVqMFowz",
        "outputId": "5077a4e9-610e-48f9-a4a1-64368ba22edc",
        "colab": {
          "base_uri": "https://localhost:8080/"
        }
      },
      "id": "okUIHVqMFowz",
      "execution_count": null,
      "outputs": [
        {
          "output_type": "execute_result",
          "data": {
            "text/plain": [
              "0.1598"
            ]
          },
          "metadata": {},
          "execution_count": 43
        }
      ]
    },
    {
      "cell_type": "markdown",
      "source": [
        "## Trying diffrent momentum value"
      ],
      "metadata": {
        "id": "BCKEtZtBpfLP"
      },
      "id": "BCKEtZtBpfLP"
    },
    {
      "cell_type": "code",
      "source": [
        "X_train_m7 = c_momentum(X_train_conv, c = 7)"
      ],
      "metadata": {
        "id": "OCOox5pLpdhT"
      },
      "id": "OCOox5pLpdhT",
      "execution_count": null,
      "outputs": []
    },
    {
      "cell_type": "code",
      "source": [
        "X_train7, X_test7, y_train7, y_test7 = train_test_split(X_train_m7, y_train, test_size=0.1)"
      ],
      "metadata": {
        "id": "IBXErJtyp0SD"
      },
      "id": "IBXErJtyp0SD",
      "execution_count": null,
      "outputs": []
    },
    {
      "cell_type": "code",
      "source": [
        "svc_m7 = SVC()\n",
        "svc_m7.fit(X_train7, y_train7.ravel())"
      ],
      "metadata": {
        "colab": {
          "base_uri": "https://localhost:8080/"
        },
        "id": "SgYMDep9qBkj",
        "outputId": "f903c641-2925-4273-c3ba-379e006f1c0b"
      },
      "id": "SgYMDep9qBkj",
      "execution_count": null,
      "outputs": [
        {
          "output_type": "execute_result",
          "data": {
            "text/plain": [
              "SVC()"
            ]
          },
          "metadata": {},
          "execution_count": 44
        }
      ]
    },
    {
      "cell_type": "code",
      "source": [
        "accuracy_score(svc_m7.predict(X_test7), y_test7)"
      ],
      "metadata": {
        "colab": {
          "base_uri": "https://localhost:8080/"
        },
        "id": "M1aAMDF-qmod",
        "outputId": "e0d81b12-b1fc-44e9-bf42-fa588728ddc1"
      },
      "id": "M1aAMDF-qmod",
      "execution_count": null,
      "outputs": [
        {
          "output_type": "execute_result",
          "data": {
            "text/plain": [
              "0.1578"
            ]
          },
          "metadata": {},
          "execution_count": 45
        }
      ]
    },
    {
      "cell_type": "code",
      "source": [
        "X_train_m44 = c_momentum(X_train_conv, c = 44) ##Then number of momentums equal to number of pixels 1035"
      ],
      "metadata": {
        "id": "Hus_jTbsq4KP"
      },
      "id": "Hus_jTbsq4KP",
      "execution_count": null,
      "outputs": []
    },
    {
      "cell_type": "code",
      "source": [
        "X_train44, X_val44, y_train44, y_val44 = train_test_split(X_train_m44, y_train, test_size=0.1)"
      ],
      "metadata": {
        "id": "YYYLn8E5uDGD"
      },
      "id": "YYYLn8E5uDGD",
      "execution_count": null,
      "outputs": []
    },
    {
      "cell_type": "code",
      "source": [
        "svc_m44 = SVC()\n",
        "svc_m44.fit(X_train44, y_train44.ravel())"
      ],
      "metadata": {
        "id": "i7Ejr5x3uK0H",
        "colab": {
          "base_uri": "https://localhost:8080/"
        },
        "outputId": "dcd057ce-9d86-4c7c-8b5b-50a4929000f9"
      },
      "id": "i7Ejr5x3uK0H",
      "execution_count": null,
      "outputs": [
        {
          "output_type": "execute_result",
          "data": {
            "text/plain": [
              "SVC()"
            ]
          },
          "metadata": {},
          "execution_count": 77
        }
      ]
    },
    {
      "cell_type": "code",
      "source": [
        "accuracy_score(svc_m44.predict(X_val44), y_val44)"
      ],
      "metadata": {
        "id": "1457RefouSOa",
        "colab": {
          "base_uri": "https://localhost:8080/"
        },
        "outputId": "9fb6757e-8032-4ace-e2de-6efab86d7fbf"
      },
      "id": "1457RefouSOa",
      "execution_count": null,
      "outputs": [
        {
          "output_type": "execute_result",
          "data": {
            "text/plain": [
              "0.1514"
            ]
          },
          "metadata": {},
          "execution_count": 78
        }
      ]
    },
    {
      "cell_type": "markdown",
      "source": [
        "## ANN"
      ],
      "metadata": {
        "id": "Ju6Xo4BqF2r9"
      },
      "id": "Ju6Xo4BqF2r9"
    },
    {
      "cell_type": "code",
      "source": [
        "import tensorflow as tf\n",
        "from tensorflow.keras import Sequential\n",
        "from tensorflow.keras.layers import Dense\n",
        "from tensorflow.keras import models, layers"
      ],
      "metadata": {
        "id": "-oBF2l8PF41t"
      },
      "id": "-oBF2l8PF41t",
      "execution_count": null,
      "outputs": []
    },
    {
      "cell_type": "code",
      "source": [
        "model = Sequential()\n",
        "model.add(Dense(5, activation='relu', input_shape=(len(X_trainn[0]),)))\n",
        "model.add(Dense(4, activation='relu'))\n",
        "model.add(Dense(3, activation='relu'))\n",
        "model.add(Dense(10, activation='softmax'))"
      ],
      "metadata": {
        "id": "8u77YJTrGOP3"
      },
      "id": "8u77YJTrGOP3",
      "execution_count": null,
      "outputs": []
    },
    {
      "cell_type": "code",
      "source": [
        "model.compile(optimizer='adam', loss=tf.keras.losses.SparseCategoricalCrossentropy(from_logits=True), metrics=['accuracy'])"
      ],
      "metadata": {
        "id": "QDB3_fBuPaie"
      },
      "id": "QDB3_fBuPaie",
      "execution_count": null,
      "outputs": []
    },
    {
      "cell_type": "code",
      "source": [
        "model.summary()"
      ],
      "metadata": {
        "colab": {
          "base_uri": "https://localhost:8080/"
        },
        "id": "xCWG5BC_Psg1",
        "outputId": "d6f26756-e118-4066-e0c1-ba594e77cab0"
      },
      "id": "xCWG5BC_Psg1",
      "execution_count": null,
      "outputs": [
        {
          "output_type": "stream",
          "name": "stdout",
          "text": [
            "Model: \"sequential_7\"\n",
            "_________________________________________________________________\n",
            " Layer (type)                Output Shape              Param #   \n",
            "=================================================================\n",
            " dense_20 (Dense)            (None, 5)                 55        \n",
            "                                                                 \n",
            " dense_21 (Dense)            (None, 4)                 24        \n",
            "                                                                 \n",
            " dense_22 (Dense)            (None, 3)                 15        \n",
            "                                                                 \n",
            " dense_23 (Dense)            (None, 10)                40        \n",
            "                                                                 \n",
            "=================================================================\n",
            "Total params: 134\n",
            "Trainable params: 134\n",
            "Non-trainable params: 0\n",
            "_________________________________________________________________\n"
          ]
        }
      ]
    },
    {
      "cell_type": "code",
      "source": [
        "history = model.fit(X_trainn, y_trainn, epochs=10, \n",
        "                    validation_data=(X_val, y_val))"
      ],
      "metadata": {
        "id": "4vPZ-m6EPugG",
        "colab": {
          "base_uri": "https://localhost:8080/"
        },
        "outputId": "44a8d646-652f-4e23-a41e-871fda6dea56"
      },
      "id": "4vPZ-m6EPugG",
      "execution_count": null,
      "outputs": [
        {
          "output_type": "stream",
          "name": "stdout",
          "text": [
            "Epoch 1/10\n"
          ]
        },
        {
          "output_type": "stream",
          "name": "stderr",
          "text": [
            "/usr/local/lib/python3.7/dist-packages/tensorflow/python/util/dispatch.py:1096: UserWarning: \"`sparse_categorical_crossentropy` received `from_logits=True`, but the `output` argument was produced by a sigmoid or softmax activation and thus does not represent logits. Was this intended?\"\n",
            "  return dispatch_target(*args, **kwargs)\n"
          ]
        },
        {
          "output_type": "stream",
          "name": "stdout",
          "text": [
            "1407/1407 [==============================] - 6s 4ms/step - loss: 11157878.0000 - accuracy: 0.1000 - val_loss: 5688.5918 - val_accuracy: 0.0942\n",
            "Epoch 2/10\n",
            "1407/1407 [==============================] - 7s 5ms/step - loss: 3943.1523 - accuracy: 0.0978 - val_loss: 2091.5591 - val_accuracy: 0.0982\n",
            "Epoch 3/10\n",
            "1407/1407 [==============================] - 4s 3ms/step - loss: 1668.0394 - accuracy: 0.0987 - val_loss: 670.0560 - val_accuracy: 0.0980\n",
            "Epoch 4/10\n",
            "1407/1407 [==============================] - 3s 2ms/step - loss: 690.8050 - accuracy: 0.0985 - val_loss: 68.9232 - val_accuracy: 0.0942\n",
            "Epoch 5/10\n",
            "1407/1407 [==============================] - 6s 4ms/step - loss: 293.5260 - accuracy: 0.0976 - val_loss: 2.3032 - val_accuracy: 0.1028\n",
            "Epoch 6/10\n",
            "1407/1407 [==============================] - 6s 4ms/step - loss: 103.5554 - accuracy: 0.0984 - val_loss: 2.3031 - val_accuracy: 0.0948\n",
            "Epoch 7/10\n",
            "1407/1407 [==============================] - 5s 3ms/step - loss: 56.1116 - accuracy: 0.0987 - val_loss: 2.3027 - val_accuracy: 0.0982\n",
            "Epoch 8/10\n",
            "1407/1407 [==============================] - 3s 2ms/step - loss: 39.2756 - accuracy: 0.0994 - val_loss: 2.3028 - val_accuracy: 0.0942\n",
            "Epoch 9/10\n",
            "1407/1407 [==============================] - 4s 3ms/step - loss: 34.8756 - accuracy: 0.0990 - val_loss: 2.3029 - val_accuracy: 0.0982\n",
            "Epoch 10/10\n",
            "1407/1407 [==============================] - 3s 2ms/step - loss: 27.3340 - accuracy: 0.0981 - val_loss: 2.3027 - val_accuracy: 0.0986\n"
          ]
        }
      ]
    },
    {
      "cell_type": "markdown",
      "source": [
        "CNN on the normal data"
      ],
      "metadata": {
        "id": "X1xmVWMaUzdE"
      },
      "id": "X1xmVWMaUzdE"
    },
    {
      "cell_type": "code",
      "source": [
        "model2 = models.Sequential()\n",
        "model2.add(layers.Conv2D(32, (3, 3), activation='relu', input_shape=(32, 32, 3)))\n",
        "model2.add(layers.MaxPooling2D((2, 2)))\n",
        "model2.add(layers.Conv2D(64, (3, 3), activation='relu'))\n",
        "model2.add(layers.MaxPooling2D((2, 2)))\n",
        "model2.add(layers.Conv2D(64, (3, 3), activation='relu'))\n"
      ],
      "metadata": {
        "id": "l3YvaepRU16H"
      },
      "id": "l3YvaepRU16H",
      "execution_count": null,
      "outputs": []
    },
    {
      "cell_type": "code",
      "source": [
        "model2.add(layers.Flatten())\n",
        "model2.add(layers.Dense(64, activation='relu'))\n",
        "model2.add(layers.Dense(10))"
      ],
      "metadata": {
        "id": "VE9n_NXoVAPJ"
      },
      "id": "VE9n_NXoVAPJ",
      "execution_count": null,
      "outputs": []
    },
    {
      "cell_type": "code",
      "source": [
        "model2.summary()"
      ],
      "metadata": {
        "colab": {
          "base_uri": "https://localhost:8080/"
        },
        "id": "6VC2T6BoVZ6Q",
        "outputId": "61f34805-8039-4708-922b-ff7d84784cb7"
      },
      "id": "6VC2T6BoVZ6Q",
      "execution_count": null,
      "outputs": [
        {
          "output_type": "stream",
          "name": "stdout",
          "text": [
            "Model: \"sequential_4\"\n",
            "_________________________________________________________________\n",
            " Layer (type)                Output Shape              Param #   \n",
            "=================================================================\n",
            " conv2d_3 (Conv2D)           (None, 30, 30, 32)        896       \n",
            "                                                                 \n",
            " max_pooling2d_2 (MaxPooling  (None, 15, 15, 32)       0         \n",
            " 2D)                                                             \n",
            "                                                                 \n",
            " conv2d_4 (Conv2D)           (None, 13, 13, 64)        18496     \n",
            "                                                                 \n",
            " max_pooling2d_3 (MaxPooling  (None, 6, 6, 64)         0         \n",
            " 2D)                                                             \n",
            "                                                                 \n",
            " conv2d_5 (Conv2D)           (None, 4, 4, 64)          36928     \n",
            "                                                                 \n",
            " flatten_1 (Flatten)         (None, 1024)              0         \n",
            "                                                                 \n",
            " dense_10 (Dense)            (None, 64)                65600     \n",
            "                                                                 \n",
            " dense_11 (Dense)            (None, 10)                650       \n",
            "                                                                 \n",
            "=================================================================\n",
            "Total params: 122,570\n",
            "Trainable params: 122,570\n",
            "Non-trainable params: 0\n",
            "_________________________________________________________________\n"
          ]
        }
      ]
    },
    {
      "cell_type": "code",
      "source": [
        "model2.compile(optimizer='adam',\n",
        "              loss=tf.keras.losses.SparseCategoricalCrossentropy(from_logits=True),\n",
        "              metrics=['accuracy'])\n",
        "\n",
        "history = model2.fit(X_train, y_train, epochs=10, \n",
        "                    validation_data=(X_test, y_test))\n"
      ],
      "metadata": {
        "colab": {
          "base_uri": "https://localhost:8080/"
        },
        "id": "RjqCjJvWVdUz",
        "outputId": "26f75e9e-75d4-4138-9fae-caf5a7bd6330"
      },
      "id": "RjqCjJvWVdUz",
      "execution_count": null,
      "outputs": [
        {
          "output_type": "stream",
          "name": "stdout",
          "text": [
            "Epoch 1/10\n",
            "1563/1563 [==============================] - 102s 65ms/step - loss: 1.7409 - accuracy: 0.4035 - val_loss: 1.3824 - val_accuracy: 0.4979\n",
            "Epoch 2/10\n",
            "1563/1563 [==============================] - 104s 67ms/step - loss: 1.2965 - accuracy: 0.5372 - val_loss: 1.2201 - val_accuracy: 0.5726\n",
            "Epoch 3/10\n",
            "1563/1563 [==============================] - 107s 68ms/step - loss: 1.1425 - accuracy: 0.5999 - val_loss: 1.2571 - val_accuracy: 0.5669\n",
            "Epoch 4/10\n",
            "1563/1563 [==============================] - 104s 67ms/step - loss: 1.0365 - accuracy: 0.6384 - val_loss: 1.0544 - val_accuracy: 0.6386\n",
            "Epoch 5/10\n",
            "1563/1563 [==============================] - 104s 67ms/step - loss: 0.9634 - accuracy: 0.6652 - val_loss: 1.0422 - val_accuracy: 0.6305\n",
            "Epoch 6/10\n",
            "1563/1563 [==============================] - 159s 102ms/step - loss: 0.8976 - accuracy: 0.6877 - val_loss: 1.0347 - val_accuracy: 0.6467\n",
            "Epoch 7/10\n",
            "1563/1563 [==============================] - 99s 63ms/step - loss: 0.8327 - accuracy: 0.7102 - val_loss: 1.0685 - val_accuracy: 0.6425\n",
            "Epoch 8/10\n",
            "1563/1563 [==============================] - 103s 66ms/step - loss: 0.7798 - accuracy: 0.7293 - val_loss: 1.0100 - val_accuracy: 0.6646\n",
            "Epoch 9/10\n",
            "1563/1563 [==============================] - 106s 68ms/step - loss: 0.7501 - accuracy: 0.7385 - val_loss: 1.0377 - val_accuracy: 0.6655\n",
            "Epoch 10/10\n",
            "1563/1563 [==============================] - 106s 68ms/step - loss: 0.7064 - accuracy: 0.7524 - val_loss: 1.0450 - val_accuracy: 0.6702\n"
          ]
        }
      ]
    },
    {
      "cell_type": "code",
      "source": [
        "plt.plot(history.history['accuracy'], label='accuracy')\n",
        "plt.plot(history.history['val_accuracy'], label = 'val_accuracy')\n",
        "plt.xlabel('Epoch')\n",
        "plt.ylabel('Accuracy')\n",
        "plt.ylim([0.5, 1])\n",
        "plt.legend(loc='lower right')\n",
        "\n",
        "test_loss, test_acc = model2.evaluate(X_test,  y_test, verbose=2)\n"
      ],
      "metadata": {
        "colab": {
          "base_uri": "https://localhost:8080/",
          "height": 300
        },
        "id": "2LICM9_MVqx_",
        "outputId": "40b07033-89b3-471d-a0e3-acaf710820e4"
      },
      "id": "2LICM9_MVqx_",
      "execution_count": null,
      "outputs": [
        {
          "output_type": "stream",
          "name": "stdout",
          "text": [
            "313/313 - 4s - loss: 1.0450 - accuracy: 0.6702 - 4s/epoch - 12ms/step\n"
          ]
        },
        {
          "output_type": "display_data",
          "data": {
            "image/png": "[encoded data removed]",
            "text/plain": [
              "<Figure size 432x288 with 1 Axes>"
            ]
          },
          "metadata": {
            "needs_background": "light"
          }
        }
      ]
    },
    {
      "cell_type": "markdown",
      "source": [
        "# Error Analysis"
      ],
      "metadata": {
        "id": "RTiGhWQzbc2t"
      },
      "id": "RTiGhWQzbc2t"
    },
    {
      "cell_type": "code",
      "source": [
        "from sklearn.metrics import confusion_matrix\n",
        "\n",
        "cf_mat = confusion_matrix(y_train, [np.argmax(i) for i in model2.predict(X_train)])"
      ],
      "metadata": {
        "id": "ux1tZs-XZi6C"
      },
      "id": "ux1tZs-XZi6C",
      "execution_count": null,
      "outputs": []
    },
    {
      "cell_type": "code",
      "source": [
        "plt.matshow(cf_mat, cmap = plt.cm.gray)\n",
        "plt.show()"
      ],
      "metadata": {
        "colab": {
          "base_uri": "https://localhost:8080/",
          "height": 275
        },
        "id": "BvCwsc22cC1s",
        "outputId": "8ee48e21-215c-4469-a76c-4ec95f6e2a70"
      },
      "id": "BvCwsc22cC1s",
      "execution_count": null,
      "outputs": [
        {
          "output_type": "display_data",
          "data": {
            "image/png": "[encoded data removed]",
            "text/plain": [
              "<Figure size 288x288 with 1 Axes>"
            ]
          },
          "metadata": {
            "needs_background": "light"
          }
        }
      ]
    },
    {
      "cell_type": "code",
      "source": [
        ""
      ],
      "metadata": {
        "id": "FRYadrW0cjfj"
      },
      "id": "FRYadrW0cjfj",
      "execution_count": null,
      "outputs": []
    },
    {
      "cell_type": "code",
      "source": [
        ""
      ],
      "metadata": {
        "id": "bNrykaOUoBXw"
      },
      "id": "bNrykaOUoBXw",
      "execution_count": null,
      "outputs": []
    },
    {
      "cell_type": "code",
      "source": [
        ""
      ],
      "metadata": {
        "id": "ov1QCUQBqFo4"
      },
      "id": "ov1QCUQBqFo4",
      "execution_count": null,
      "outputs": []
    }
  ],
  "metadata": {
    "colab": {
      "collapsed_sections": [],
      "name": "Ml_Project.ipynb",
      "provenance": [],
      "include_colab_link": true
    },
    "kernelspec": {
      "display_name": "Python 3",
      "language": "python",
      "name": "python3"
    },
    "language_info": {
      "codemirror_mode": {
        "name": "ipython",
        "version": 3
      },
      "file_extension": ".py",
      "mimetype": "text/x-python",
      "name": "python",
      "nbconvert_exporter": "python",
      "pygments_lexer": "ipython3",
      "version": "3.8.8"
    }
  },
  "nbformat": 4,
  "nbformat_minor": 5
}