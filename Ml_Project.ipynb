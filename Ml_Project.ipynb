{
  "cells": [
    {
      "cell_type": "markdown",
      "metadata": {
        "id": "ug5JIxQF_XAw"
      },
      "source": [
        "# Theoritcal Foundation of Machine Learning Final Project \n",
        "\n",
        "\n",
        "1.   Youseef Osama Ahmed 20190629\n",
        "2.   Mohamed Alameen AbdAlziz 20190720\n",
        "3.   Osama Khaled Abd-Alghafar\n",
        "4.   Solhof\n",
        "5.   Amira\n",
        "\n"
      ],
      "id": "ug5JIxQF_XAw"
    },
    {
      "cell_type": "code",
      "execution_count": 1,
      "metadata": {
        "id": "e201e094"
      },
      "outputs": [],
      "source": [
        "import numpy as np"
      ],
      "id": "e201e094"
    },
    {
      "cell_type": "markdown",
      "metadata": {
        "id": "-Mb3qDer_EAE"
      },
      "source": [
        "# Loading the data\n",
        "Using the keras datasets to load the data, the data is already splitied into train and test sets.\n",
        "We just going to take a portion of the train to make a validation set"
      ],
      "id": "-Mb3qDer_EAE"
    },
    {
      "cell_type": "code",
      "execution_count": 2,
      "metadata": {
        "id": "e44f28f7",
        "colab": {
          "base_uri": "https://localhost:8080/"
        },
        "outputId": "e1146536-10c3-41b1-c761-737e16bf7c30"
      },
      "outputs": [
        {
          "output_type": "stream",
          "name": "stdout",
          "text": [
            "Downloading data from https://www.cs.toronto.edu/~kriz/cifar-10-python.tar.gz\n",
            "170500096/170498071 [==============================] - 11s 0us/step\n",
            "170508288/170498071 [==============================] - 11s 0us/step\n"
          ]
        }
      ],
      "source": [
        "from keras.datasets import cifar10\n",
        "(X_train, y_train), (X_test, y_test) = cifar10.load_data()"
      ],
      "id": "e44f28f7"
    },
    {
      "cell_type": "markdown",
      "metadata": {
        "id": "ro010urCCIUO"
      },
      "source": [
        "# Exploring the Data"
      ],
      "id": "ro010urCCIUO"
    },
    {
      "cell_type": "code",
      "execution_count": 3,
      "metadata": {
        "colab": {
          "base_uri": "https://localhost:8080/",
          "height": 0
        },
        "id": "IdRT33ujCHw6",
        "outputId": "51cde32b-b644-4924-d67c-9b5fe8a89b09"
      },
      "outputs": [
        {
          "output_type": "execute_result",
          "data": {
            "text/plain": [
              "(<matplotlib.image.AxesImage at 0x7fe184d92750>, array([9], dtype=uint8))"
            ]
          },
          "metadata": {},
          "execution_count": 3
        },
        {
          "output_type": "display_data",
          "data": {
            "image/png": "[encoded data removed]",
            "text/plain": [
              "<Figure size 432x288 with 1 Axes>"
            ]
          },
          "metadata": {
            "needs_background": "light"
          }
        }
      ],
      "source": [
        "import matplotlib.pyplot as plt\n",
        "index = 88\n",
        "plt.imshow(X_train[index]), y_train[index]"
      ],
      "id": "IdRT33ujCHw6"
    },
    {
      "cell_type": "markdown",
      "metadata": {
        "id": "4hq9vOyijPbk"
      },
      "source": [
        "some image are too bad even a human being can't recognize it given the following image which is suppose to be for a **Deer**"
      ],
      "id": "4hq9vOyijPbk"
    },
    {
      "cell_type": "code",
      "execution_count": 4,
      "metadata": {
        "colab": {
          "base_uri": "https://localhost:8080/",
          "height": 0
        },
        "id": "eRrO6_TTjYI_",
        "outputId": "cc6b383c-f650-45a9-d3b5-10bdc68ae3c1"
      },
      "outputs": [
        {
          "output_type": "execute_result",
          "data": {
            "text/plain": [
              "(<matplotlib.image.AxesImage at 0x7fe184d799d0>, array([4], dtype=uint8))"
            ]
          },
          "metadata": {},
          "execution_count": 4
        },
        {
          "output_type": "display_data",
          "data": {
            "image/png": "[encoded data removed]",
            "text/plain": [
              "<Figure size 432x288 with 1 Axes>"
            ]
          },
          "metadata": {
            "needs_background": "light"
          }
        }
      ],
      "source": [
        "plt.imshow(X_train[10]), y_train[10]"
      ],
      "id": "eRrO6_TTjYI_"
    },
    {
      "cell_type": "code",
      "execution_count": 5,
      "metadata": {
        "id": "P8X5EVEsGt0A"
      },
      "outputs": [],
      "source": [
        "labels = {1:  'airplane',   #back to the documntation\n",
        "          2:  'bird', \n",
        "          3:  'cat', \n",
        "          4:  'deer', \n",
        "          5:  'dog', \n",
        "          6:  'frog', \n",
        "          7:  'horse', \n",
        "          8:  'ship', \n",
        "          9:  'truck'}"
      ],
      "id": "P8X5EVEsGt0A"
    },
    {
      "cell_type": "code",
      "execution_count": 6,
      "metadata": {
        "colab": {
          "base_uri": "https://localhost:8080/"
        },
        "id": "0xnDO51hI4lB",
        "outputId": "b8b6425e-d9c3-4c37-f1cb-b72de3cf9f1b"
      },
      "outputs": [
        {
          "output_type": "execute_result",
          "data": {
            "text/plain": [
              "{0: 5000,\n",
              " 1: 5000,\n",
              " 2: 5000,\n",
              " 3: 5000,\n",
              " 4: 5000,\n",
              " 5: 5000,\n",
              " 6: 5000,\n",
              " 7: 5000,\n",
              " 8: 5000,\n",
              " 9: 5000}"
            ]
          },
          "metadata": {},
          "execution_count": 6
        }
      ],
      "source": [
        "unique, counts = np.unique(y_train, return_counts=True) #all the classes equal to each other\n",
        "dict(zip(unique, counts))"
      ],
      "id": "0xnDO51hI4lB"
    },
    {
      "cell_type": "markdown",
      "metadata": {
        "id": "AyaWCW3xbZns"
      },
      "source": [
        "# Data Preprocessing"
      ],
      "id": "AyaWCW3xbZns"
    },
    {
      "cell_type": "code",
      "source": [
        "labelNames = [\"airplane\", \"automobile\", \"bird\", \"cat\", \"deer\", \"dog\", \"frog\", \"horse\", \"ship\", \"truck\"]"
      ],
      "metadata": {
        "id": "n_c9pAvz_EzT"
      },
      "id": "n_c9pAvz_EzT",
      "execution_count": 76,
      "outputs": []
    },
    {
      "cell_type": "markdown",
      "metadata": {
        "id": "CXDgnllgowxh"
      },
      "source": [
        "## Avg Pooling"
      ],
      "id": "CXDgnllgowxh"
    },
    {
      "cell_type": "markdown",
      "metadata": {
        "id": "5yTeOWZ2b30u"
      },
      "source": [
        " looking at the first image at the first pixel (0, 0) coordinates,at each pixel we got three RGB values and we are going to replace them by a single value computed by their avreage."
      ],
      "id": "5yTeOWZ2b30u"
    },
    {
      "cell_type": "code",
      "execution_count": 7,
      "metadata": {
        "id": "H3lrd0r5bfzN"
      },
      "outputs": [],
      "source": [
        "def avg_pixels(data):\n",
        "  data_avg = data.copy()\n",
        "  for i in range(len(data)): #looping over the data\n",
        "    for x in range(len(data[0])): #looping over the x_coordinates\n",
        "      for y in range(len(data[0].T[0])): #looping over the y_coordinates\n",
        "        data_avg[i][x][y] = np.average(data[i][x][y])\n",
        "  return data_avg"
      ],
      "id": "H3lrd0r5bfzN"
    },
    {
      "cell_type": "code",
      "execution_count": null,
      "metadata": {
        "id": "Shkm1OKwkohB"
      },
      "outputs": [],
      "source": [
        "X_train_avg = avg_pixels(X_train)"
      ],
      "id": "Shkm1OKwkohB"
    },
    {
      "cell_type": "code",
      "execution_count": null,
      "metadata": {
        "colab": {
          "base_uri": "https://localhost:8080/"
        },
        "id": "0U-A3gDqeD5-",
        "outputId": "1b61ff40-dfba-4f2e-c539-ab5b494904ce"
      },
      "outputs": [
        {
          "output_type": "execute_result",
          "data": {
            "text/plain": [
              "50000"
            ]
          },
          "metadata": {},
          "execution_count": 9
        }
      ],
      "source": [
        "len(X_train_avg) #for debugging"
      ],
      "id": "0U-A3gDqeD5-"
    },
    {
      "cell_type": "markdown",
      "metadata": {
        "id": "UeN80xRYj0Ed"
      },
      "source": [
        "After Averging the images there is no change, they are only converted into gray images like the following examples"
      ],
      "id": "UeN80xRYj0Ed"
    },
    {
      "cell_type": "code",
      "execution_count": null,
      "metadata": {
        "colab": {
          "base_uri": "https://localhost:8080/",
          "height": 286
        },
        "id": "j2UEX0TJlO3W",
        "outputId": "cb981630-c6dd-4cde-fe2c-99834b8076e3"
      },
      "outputs": [
        {
          "output_type": "execute_result",
          "data": {
            "text/plain": [
              "<matplotlib.image.AxesImage at 0x7f8e2e4b08d0>"
            ]
          },
          "metadata": {},
          "execution_count": 10
        },
        {
          "output_type": "display_data",
          "data": {
            "image/png": "[encoded data removed]",
            "text/plain": [
              "<Figure size 432x288 with 4 Axes>"
            ]
          },
          "metadata": {
            "needs_background": "light"
          }
        }
      ],
      "source": [
        "f, axarr = plt.subplots(2,2)\n",
        "axarr[0,0].imshow(X_train[1])\n",
        "axarr[0,1].imshow(X_train_avg[1])\n",
        "axarr[1,0].imshow(X_train[100])\n",
        "axarr[1,1].imshow(X_train_avg[100])"
      ],
      "id": "j2UEX0TJlO3W"
    },
    {
      "cell_type": "markdown",
      "metadata": {
        "id": "_Cta3hNuxHu0"
      },
      "source": [
        "Since now all the RGB channels got the same value no need to keep them all, instead we are going to keep only a single chanel, converting each image into a 32x32 matrix, which will provide an efficient way in computation      \n",
        "ex. the first pixel of the first image will get the values (61, 61, 61) so  we will make it one channel (61)"
      ],
      "id": "_Cta3hNuxHu0"
    },
    {
      "cell_type": "code",
      "execution_count": null,
      "metadata": {
        "colab": {
          "base_uri": "https://localhost:8080/"
        },
        "id": "Zj3vSERnxmCY",
        "outputId": "9490b265-398f-447f-f7fd-dd62d2f1d3c3"
      },
      "outputs": [
        {
          "output_type": "execute_result",
          "data": {
            "text/plain": [
              "array([61, 61, 61], dtype=uint8)"
            ]
          },
          "metadata": {},
          "execution_count": 11
        }
      ],
      "source": [
        "X_train_avg[0][0][0]"
      ],
      "id": "Zj3vSERnxmCY"
    },
    {
      "cell_type": "code",
      "execution_count": 11,
      "metadata": {
        "id": "IpPzTiJc04A4"
      },
      "outputs": [],
      "source": [
        "def convert(data):\n",
        "  X_train_avg = avg_pixels(data)\n",
        "  imgs = []\n",
        "  for i in range(len(data)):\n",
        "    img = []\n",
        "    for j in range(len(data[0])):\n",
        "      tmp = [int(np.unique(hold)[0]) for hold in X_train_avg[i][j]]\n",
        "      img.append(tmp)\n",
        "    imgs.append(img)\n",
        "  return np.asarray(imgs)"
      ],
      "id": "IpPzTiJc04A4"
    },
    {
      "cell_type": "code",
      "execution_count": 13,
      "metadata": {
        "id": "N59dy16f4TCm"
      },
      "outputs": [],
      "source": [
        "X_train_conv = convert(X_train)"
      ],
      "id": "N59dy16f4TCm"
    },
    {
      "cell_type": "code",
      "execution_count": 14,
      "metadata": {
        "colab": {
          "base_uri": "https://localhost:8080/"
        },
        "id": "aL8d1jVHeto_",
        "outputId": "c4beda2d-0401-42eb-d9df-7aa7879ae6aa"
      },
      "outputs": [
        {
          "output_type": "execute_result",
          "data": {
            "text/plain": [
              "50000"
            ]
          },
          "metadata": {},
          "execution_count": 14
        }
      ],
      "source": [
        "len(X_train_conv)"
      ],
      "id": "aL8d1jVHeto_"
    },
    {
      "cell_type": "markdown",
      "metadata": {
        "id": "kUgsZhQ46LZy"
      },
      "source": [
        "a sample for converted image into 32 * 32 "
      ],
      "id": "kUgsZhQ46LZy"
    },
    {
      "cell_type": "code",
      "execution_count": 15,
      "metadata": {
        "colab": {
          "base_uri": "https://localhost:8080/"
        },
        "id": "KkdkIq4O6FWf",
        "outputId": "67234dcb-33cb-4a20-ea9a-bebb6afe179a"
      },
      "outputs": [
        {
          "output_type": "execute_result",
          "data": {
            "text/plain": [
              "7328586"
            ]
          },
          "metadata": {},
          "execution_count": 15
        }
      ],
      "source": [
        "max(X_train_conv[0].flatten()) * 29791"
      ],
      "id": "KkdkIq4O6FWf"
    },
    {
      "cell_type": "markdown",
      "metadata": {
        "id": "-2WRNc6OtGXm"
      },
      "source": [
        "## Applying the momentum "
      ],
      "id": "-2WRNc6OtGXm"
    },
    {
      "cell_type": "code",
      "execution_count": 16,
      "metadata": {
        "id": "Lc-4mLD3tLm_"
      },
      "outputs": [],
      "source": [
        "def c_momentum(data, c = 3):\n",
        "  m_data = []\n",
        "  mean_x = (len(data[0][0]) + 1) / 2\n",
        "  mean_y = (len(data[0][0].T) + 1) / 2\n",
        "  for img in data:\n",
        "    ms = []\n",
        "    for p in range(c+1):\n",
        "      for q in range(c+1):\n",
        "        if p + q <= c:\n",
        "          tmp = np.multiply((np.power(np.arange(len(data[0][0])) - mean_x, p) * np.power(np.arange(len(data[0].T[0] - mean_y)), q)) , img)\n",
        "          ms.append(tmp.sum().sum())\n",
        "    m_data.append(ms)\n",
        "  return np.asarray(m_data)"
      ],
      "id": "Lc-4mLD3tLm_"
    },
    {
      "cell_type": "code",
      "execution_count": 17,
      "metadata": {
        "id": "qjlRtK1HE7NZ"
      },
      "outputs": [],
      "source": [
        "X_train_m = c_momentum(X_train_conv, c  = 3)"
      ],
      "id": "qjlRtK1HE7NZ"
    },
    {
      "cell_type": "code",
      "source": [
        "len(X_train_m[0])"
      ],
      "metadata": {
        "colab": {
          "base_uri": "https://localhost:8080/"
        },
        "id": "jpy_GW24m9HN",
        "outputId": "976c0bb8-cdcd-4221-87e9-aa4684be361d"
      },
      "id": "jpy_GW24m9HN",
      "execution_count": 18,
      "outputs": [
        {
          "output_type": "execute_result",
          "data": {
            "text/plain": [
              "10"
            ]
          },
          "metadata": {},
          "execution_count": 18
        }
      ]
    },
    {
      "cell_type": "code",
      "execution_count": 19,
      "metadata": {
        "colab": {
          "base_uri": "https://localhost:8080/"
        },
        "id": "GWm2eQB-fGYZ",
        "outputId": "e965d624-2efa-4e4e-ddfd-5cd954153e12"
      },
      "outputs": [
        {
          "output_type": "execute_result",
          "data": {
            "text/plain": [
              "50000"
            ]
          },
          "metadata": {},
          "execution_count": 19
        }
      ],
      "source": [
        "len(X_train_m)"
      ],
      "id": "GWm2eQB-fGYZ"
    },
    {
      "cell_type": "code",
      "execution_count": 20,
      "metadata": {
        "colab": {
          "base_uri": "https://localhost:8080/"
        },
        "id": "gUYRk6bBFJOR",
        "outputId": "06184843-25d9-4fb4-c06e-577b9f924eac"
      },
      "outputs": [
        {
          "output_type": "execute_result",
          "data": {
            "text/plain": [
              "array([ 1.05589000e+05,  1.63695100e+06,  3.37076310e+07,  7.79918347e+08,\n",
              "       -1.05267500e+05,  6.69793950e+06,  2.23742436e+08,  8.43485325e+06,\n",
              "        1.13226434e+08, -2.59486449e+07])"
            ]
          },
          "metadata": {},
          "execution_count": 20
        }
      ],
      "source": [
        "X_train_m[0]"
      ],
      "id": "gUYRk6bBFJOR"
    },
    {
      "cell_type": "markdown",
      "metadata": {
        "id": "FVAE3H1KQvak"
      },
      "source": [
        "## Spliting the train data into train and validation by 10%"
      ],
      "id": "FVAE3H1KQvak"
    },
    {
      "cell_type": "code",
      "execution_count": 21,
      "metadata": {
        "id": "lYN02DtKKs16"
      },
      "outputs": [],
      "source": [
        "from sklearn.model_selection import train_test_split\n",
        "X_trainn, X_val, y_trainn, y_val = train_test_split(X_train_m, y_train, test_size=0.1)"
      ],
      "id": "lYN02DtKKs16"
    },
    {
      "cell_type": "code",
      "execution_count": 22,
      "metadata": {
        "colab": {
          "base_uri": "https://localhost:8080/"
        },
        "id": "yn1oasMBK6Yw",
        "outputId": "045011c5-d050-41d7-eb8c-dfa9ac0a7fe0"
      },
      "outputs": [
        {
          "output_type": "execute_result",
          "data": {
            "text/plain": [
              "(45000, 5000)"
            ]
          },
          "metadata": {},
          "execution_count": 22
        }
      ],
      "source": [
        "len(X_trainn), len(X_val)"
      ],
      "id": "yn1oasMBK6Yw"
    },
    {
      "cell_type": "markdown",
      "metadata": {
        "id": "OmRLALflQ8S0"
      },
      "source": [
        "# Building the Model\n"
      ],
      "id": "OmRLALflQ8S0"
    },
    {
      "cell_type": "markdown",
      "source": [
        "As we can see below many diffrient models with diffrient hyperparamters couldn't catch the complexity of the model even the SVMs with rbf and polynomial kernal. this might be due to many resons\n",
        "\n",
        "\n",
        "*   Quality of the data, data doesn't have enough information\n",
        "*   simplicity of the models, even tuning the hyper-parapmeters won't add that much\n",
        "*   increasing the number of the instances will not add to much, models are too simple \n",
        "\n",
        "\n",
        "*   CNN as we see below are a much more complex model enabling them to detect patterns, edges, ..etc, perform much better\n",
        "\n",
        "\n",
        "\n"
      ],
      "metadata": {
        "id": "_mH7niRCEVNh"
      },
      "id": "_mH7niRCEVNh"
    },
    {
      "cell_type": "markdown",
      "metadata": {
        "id": "zEttRnd1RA6c"
      },
      "source": [
        "## SVM"
      ],
      "id": "zEttRnd1RA6c"
    },
    {
      "cell_type": "code",
      "execution_count": 23,
      "metadata": {
        "id": "XpNW52s1LIip"
      },
      "outputs": [],
      "source": [
        "from sklearn.svm import SVC\n",
        "from sklearn.metrics import accuracy_score"
      ],
      "id": "XpNW52s1LIip"
    },
    {
      "cell_type": "code",
      "execution_count": 24,
      "metadata": {
        "colab": {
          "base_uri": "https://localhost:8080/"
        },
        "id": "lreMsnq0Rc2t",
        "outputId": "830e7122-9980-4b26-f117-f2c3a7dc1fb8"
      },
      "outputs": [
        {
          "output_type": "execute_result",
          "data": {
            "text/plain": [
              "SVC(gamma='auto', kernel='sigmoid')"
            ]
          },
          "metadata": {},
          "execution_count": 24
        }
      ],
      "source": [
        "svc1 = SVC()\n",
        "svc1.fit(X_trainn, y_trainn.ravel())\n",
        "svc2 = SVC(kernel='poly', degree=3)\n",
        "svc2.fit(X_trainn, y_trainn.ravel())\n",
        "svc3 = SVC(kernel='sigmoid', gamma='auto')\n",
        "svc3.fit(X_trainn, y_trainn.ravel())"
      ],
      "id": "lreMsnq0Rc2t"
    },
    {
      "cell_type": "code",
      "execution_count": 25,
      "metadata": {
        "colab": {
          "base_uri": "https://localhost:8080/"
        },
        "id": "PaTyibO1UtF5",
        "outputId": "771af5f7-7b5a-46ad-e577-435f1894b538"
      },
      "outputs": [
        {
          "output_type": "execute_result",
          "data": {
            "text/plain": [
              "0.1556"
            ]
          },
          "metadata": {},
          "execution_count": 25
        }
      ],
      "source": [
        "print(accuracy_score(svc1.predict(X_val), y_val))\n",
        "print(accuracy_score(svc2.predict(X_val), y_val))\n",
        "print(accuracy_score(svc2.predict(X_val), y_val))"
      ],
      "id": "PaTyibO1UtF5"
    },
    {
      "cell_type": "markdown",
      "source": [
        "##Random Forest\n"
      ],
      "metadata": {
        "id": "r_BsNkNQDjYZ"
      },
      "id": "r_BsNkNQDjYZ"
    },
    {
      "cell_type": "code",
      "source": [
        "from sklearn.ensemble import RandomForestClassifier"
      ],
      "metadata": {
        "id": "ibJ69I_mDnsq"
      },
      "id": "ibJ69I_mDnsq",
      "execution_count": 26,
      "outputs": []
    },
    {
      "cell_type": "code",
      "source": [
        "forest1 = RandomForestClassifier(criterion='entropy', max_depth=50)\n",
        "forest1.fit(X_trainn, y_trainn.ravel())\n",
        "forest2 = RandomForestClassifier(criterion='gini', max_depth=70)\n",
        "forest2.fit(X_trainn, y_trainn.ravel())\n",
        "forest3 = RandomForestClassifier(criterion='entropy', max_depth=100)\n",
        "forest3.fit(X_trainn, y_trainn.ravel())"
      ],
      "metadata": {
        "colab": {
          "base_uri": "https://localhost:8080/"
        },
        "id": "pis2tlg7Dvw2",
        "outputId": "cf2366cf-5335-4f76-8a66-143d59d2785f"
      },
      "id": "pis2tlg7Dvw2",
      "execution_count": 27,
      "outputs": [
        {
          "output_type": "execute_result",
          "data": {
            "text/plain": [
              "RandomForestClassifier(criterion='entropy', max_depth=100)"
            ]
          },
          "metadata": {},
          "execution_count": 27
        }
      ]
    },
    {
      "cell_type": "code",
      "source": [
        "print(accuracy_score(forest1.predict(X_val), y_val))\n",
        "print(accuracy_score(forest2.predict(X_val), y_val))\n",
        "print(accuracy_score(forest3.predict(X_val), y_val))"
      ],
      "metadata": {
        "colab": {
          "base_uri": "https://localhost:8080/"
        },
        "id": "bFinB4ioEP9d",
        "outputId": "d02652c2-2b24-436a-abb2-c5294031992f"
      },
      "id": "bFinB4ioEP9d",
      "execution_count": 28,
      "outputs": [
        {
          "output_type": "execute_result",
          "data": {
            "text/plain": [
              "0.1748"
            ]
          },
          "metadata": {},
          "execution_count": 28
        }
      ]
    },
    {
      "cell_type": "markdown",
      "source": [
        "##Decision Tree\n"
      ],
      "metadata": {
        "id": "EU9kibyaE_Lw"
      },
      "id": "EU9kibyaE_Lw"
    },
    {
      "cell_type": "code",
      "source": [
        "from sklearn.tree import DecisionTreeClassifier"
      ],
      "metadata": {
        "id": "mkEc6Fc8ETn0"
      },
      "id": "mkEc6Fc8ETn0",
      "execution_count": 29,
      "outputs": []
    },
    {
      "cell_type": "code",
      "source": [
        "tree1 = DecisionTreeClassifier(criterion='entropy', max_depth=100)\n",
        "tree1.fit(X_trainn, y_trainn.ravel())\n",
        "tree2 = DecisionTreeClassifier(criterion='entropy', max_depth=150)\n",
        "tree2.fit(X_trainn, y_trainn.ravel())\n",
        "tree3 = DecisionTreeClassifier(criterion='gini', max_depth=200)\n",
        "tree3.fit(X_trainn, y_trainn.ravel())"
      ],
      "metadata": {
        "colab": {
          "base_uri": "https://localhost:8080/"
        },
        "id": "eh7U9QsEFFbR",
        "outputId": "dacd85b2-3590-49cf-fc01-6486b3e8615a"
      },
      "id": "eh7U9QsEFFbR",
      "execution_count": 30,
      "outputs": [
        {
          "output_type": "execute_result",
          "data": {
            "text/plain": [
              "DecisionTreeClassifier(max_depth=200)"
            ]
          },
          "metadata": {},
          "execution_count": 30
        }
      ]
    },
    {
      "cell_type": "code",
      "source": [
        "print(accuracy_score(tree1.predict(X_val), y_val))\n",
        "print(accuracy_score(tree2.predict(X_val), y_val))\n",
        "print(accuracy_score(tree3.predict(X_val), y_val))"
      ],
      "metadata": {
        "colab": {
          "base_uri": "https://localhost:8080/"
        },
        "id": "xO5E5VSYFLJK",
        "outputId": "2aa12abe-7be0-4b2e-f829-b6283d008353"
      },
      "id": "xO5E5VSYFLJK",
      "execution_count": 31,
      "outputs": [
        {
          "output_type": "execute_result",
          "data": {
            "text/plain": [
              "0.1376"
            ]
          },
          "metadata": {},
          "execution_count": 31
        }
      ]
    },
    {
      "cell_type": "markdown",
      "source": [
        "##KNN\n"
      ],
      "metadata": {
        "id": "Of5SAIkkFRtw"
      },
      "id": "Of5SAIkkFRtw"
    },
    {
      "cell_type": "code",
      "source": [
        "from sklearn.neighbors import KNeighborsClassifier"
      ],
      "metadata": {
        "id": "Jl21DYseFTkm"
      },
      "id": "Jl21DYseFTkm",
      "execution_count": 32,
      "outputs": []
    },
    {
      "cell_type": "code",
      "source": [
        "knn1 = KNeighborsClassifier(n_neighbors=4)\n",
        "knn1.fit(X_trainn, y_trainn.ravel())\n",
        "knn2 = KNeighborsClassifier(n_neighbors=6)\n",
        "knn2.fit(X_trainn, y_trainn.ravel())\n",
        "knn3 = KNeighborsClassifier(n_neighbors=8)\n",
        "knn3.fit(X_trainn, y_trainn.ravel())"
      ],
      "metadata": {
        "colab": {
          "base_uri": "https://localhost:8080/"
        },
        "id": "NFJFt_LwFg-A",
        "outputId": "3a04c777-f1e6-48fe-b115-e0b08ecad9ff"
      },
      "id": "NFJFt_LwFg-A",
      "execution_count": 33,
      "outputs": [
        {
          "output_type": "execute_result",
          "data": {
            "text/plain": [
              "KNeighborsClassifier(n_neighbors=8)"
            ]
          },
          "metadata": {},
          "execution_count": 33
        }
      ]
    },
    {
      "cell_type": "code",
      "source": [
        "print(accuracy_score(knn1.predict(X_val), y_val))\n",
        "print(accuracy_score(knn2.predict(X_val), y_val))\n",
        "print(accuracy_score(knn3.predict(X_val), y_val))"
      ],
      "metadata": {
        "id": "okUIHVqMFowz",
        "outputId": "878b17cf-eeea-4efb-bf1d-de8ef44cdcee",
        "colab": {
          "base_uri": "https://localhost:8080/"
        }
      },
      "id": "okUIHVqMFowz",
      "execution_count": 34,
      "outputs": [
        {
          "output_type": "execute_result",
          "data": {
            "text/plain": [
              "0.1652"
            ]
          },
          "metadata": {},
          "execution_count": 34
        }
      ]
    },
    {
      "cell_type": "markdown",
      "source": [
        "## Trying diffrent momentum value"
      ],
      "metadata": {
        "id": "BCKEtZtBpfLP"
      },
      "id": "BCKEtZtBpfLP"
    },
    {
      "cell_type": "code",
      "source": [
        "X_train_m7 = c_momentum(X_train_conv, c = 7)"
      ],
      "metadata": {
        "id": "OCOox5pLpdhT"
      },
      "id": "OCOox5pLpdhT",
      "execution_count": 35,
      "outputs": []
    },
    {
      "cell_type": "code",
      "source": [
        "X_train7, X_test7, y_train7, y_test7 = train_test_split(X_train_m7, y_train, test_size=0.1)"
      ],
      "metadata": {
        "id": "IBXErJtyp0SD"
      },
      "id": "IBXErJtyp0SD",
      "execution_count": 36,
      "outputs": []
    },
    {
      "cell_type": "code",
      "source": [
        "svc_m7 = SVC()\n",
        "svc_m7.fit(X_train7, y_train7.ravel())"
      ],
      "metadata": {
        "colab": {
          "base_uri": "https://localhost:8080/"
        },
        "id": "SgYMDep9qBkj",
        "outputId": "78f479b8-7533-4243-b37b-3ce25a1fc2f2"
      },
      "id": "SgYMDep9qBkj",
      "execution_count": 37,
      "outputs": [
        {
          "output_type": "execute_result",
          "data": {
            "text/plain": [
              "SVC()"
            ]
          },
          "metadata": {},
          "execution_count": 37
        }
      ]
    },
    {
      "cell_type": "code",
      "source": [
        "accuracy_score(svc_m7.predict(X_test7), y_test7)"
      ],
      "metadata": {
        "colab": {
          "base_uri": "https://localhost:8080/"
        },
        "id": "M1aAMDF-qmod",
        "outputId": "f569c736-965c-479c-e12c-d2303d17cea1"
      },
      "id": "M1aAMDF-qmod",
      "execution_count": 38,
      "outputs": [
        {
          "output_type": "execute_result",
          "data": {
            "text/plain": [
              "0.1578"
            ]
          },
          "metadata": {},
          "execution_count": 38
        }
      ]
    },
    {
      "cell_type": "code",
      "source": [
        "X_train_m44 = c_momentum(X_train_conv, c = 44) ##Then number of momentums equal to number of pixels 1035"
      ],
      "metadata": {
        "id": "Hus_jTbsq4KP"
      },
      "id": "Hus_jTbsq4KP",
      "execution_count": 83,
      "outputs": []
    },
    {
      "cell_type": "code",
      "source": [
        "X_train44, X_val44, y_train44, y_val44 = train_test_split(X_train_m44, y_train, test_size=0.1)"
      ],
      "metadata": {
        "id": "YYYLn8E5uDGD"
      },
      "id": "YYYLn8E5uDGD",
      "execution_count": 84,
      "outputs": []
    },
    {
      "cell_type": "code",
      "source": [
        "svc_m44 = SVC()\n",
        "svc_m44.fit(X_train44, y_train44.ravel())"
      ],
      "metadata": {
        "id": "i7Ejr5x3uK0H"
      },
      "id": "i7Ejr5x3uK0H",
      "execution_count": null,
      "outputs": []
    },
    {
      "cell_type": "code",
      "source": [
        "accuracy_score(svc_m44.predict(X_val44), y_val44)"
      ],
      "metadata": {
        "id": "1457RefouSOa"
      },
      "id": "1457RefouSOa",
      "execution_count": null,
      "outputs": []
    },
    {
      "cell_type": "markdown",
      "source": [
        "## ANN"
      ],
      "metadata": {
        "id": "Ju6Xo4BqF2r9"
      },
      "id": "Ju6Xo4BqF2r9"
    },
    {
      "cell_type": "code",
      "source": [
        "import tensorflow as tf\n",
        "from tensorflow.keras import Sequential\n",
        "from tensorflow.keras.layers import Dense\n",
        "from tensorflow.keras import models, layers"
      ],
      "metadata": {
        "id": "-oBF2l8PF41t"
      },
      "id": "-oBF2l8PF41t",
      "execution_count": 40,
      "outputs": []
    },
    {
      "cell_type": "code",
      "source": [
        "model = Sequential()\n",
        "model.add(Dense(5, activation='relu', input_shape=(len(X_trainn[0]),)))\n",
        "model.add(Dense(4, activation='relu'))\n",
        "model.add(Dense(3, activation='relu'))\n",
        "model.add(Dense(10, activation='softmax'))"
      ],
      "metadata": {
        "id": "8u77YJTrGOP3"
      },
      "id": "8u77YJTrGOP3",
      "execution_count": 41,
      "outputs": []
    },
    {
      "cell_type": "code",
      "source": [
        "model.compile(optimizer='adam', loss=tf.keras.losses.SparseCategoricalCrossentropy(from_logits=True), metrics=['accuracy'])"
      ],
      "metadata": {
        "id": "QDB3_fBuPaie"
      },
      "id": "QDB3_fBuPaie",
      "execution_count": 42,
      "outputs": []
    },
    {
      "cell_type": "code",
      "source": [
        "model.summary()"
      ],
      "metadata": {
        "colab": {
          "base_uri": "https://localhost:8080/"
        },
        "id": "xCWG5BC_Psg1",
        "outputId": "6dcc35c4-2b3d-4ec4-b2db-50c7593aeb6b"
      },
      "id": "xCWG5BC_Psg1",
      "execution_count": 43,
      "outputs": [
        {
          "output_type": "stream",
          "name": "stdout",
          "text": [
            "Model: \"sequential\"\n",
            "_________________________________________________________________\n",
            " Layer (type)                Output Shape              Param #   \n",
            "=================================================================\n",
            " dense (Dense)               (None, 5)                 55        \n",
            "                                                                 \n",
            " dense_1 (Dense)             (None, 4)                 24        \n",
            "                                                                 \n",
            " dense_2 (Dense)             (None, 3)                 15        \n",
            "                                                                 \n",
            " dense_3 (Dense)             (None, 10)                40        \n",
            "                                                                 \n",
            "=================================================================\n",
            "Total params: 134\n",
            "Trainable params: 134\n",
            "Non-trainable params: 0\n",
            "_________________________________________________________________\n"
          ]
        }
      ]
    },
    {
      "cell_type": "code",
      "source": [
        "history = model.fit(X_trainn, y_trainn, epochs=10, \n",
        "                    validation_data=(X_val, y_val))"
      ],
      "metadata": {
        "id": "4vPZ-m6EPugG",
        "colab": {
          "base_uri": "https://localhost:8080/"
        },
        "outputId": "02b1fe7b-3698-4d0e-bd8e-5ea126f3ecd3"
      },
      "id": "4vPZ-m6EPugG",
      "execution_count": 44,
      "outputs": [
        {
          "output_type": "stream",
          "name": "stdout",
          "text": [
            "Epoch 1/10\n"
          ]
        },
        {
          "output_type": "stream",
          "name": "stderr",
          "text": [
            "/usr/local/lib/python3.7/dist-packages/tensorflow/python/util/dispatch.py:1096: UserWarning: \"`sparse_categorical_crossentropy` received `from_logits=True`, but the `output` argument was produced by a sigmoid or softmax activation and thus does not represent logits. Was this intended?\"\n",
            "  return dispatch_target(*args, **kwargs)\n"
          ]
        },
        {
          "output_type": "stream",
          "name": "stdout",
          "text": [
            "1407/1407 [==============================] - 3s 2ms/step - loss: 5215217.0000 - accuracy: 0.1019 - val_loss: 5868.6294 - val_accuracy: 0.1024\n",
            "Epoch 2/10\n",
            "1407/1407 [==============================] - 2s 2ms/step - loss: 4927.4595 - accuracy: 0.1032 - val_loss: 1772.6780 - val_accuracy: 0.1012\n",
            "Epoch 3/10\n",
            "1407/1407 [==============================] - 2s 2ms/step - loss: 2216.5771 - accuracy: 0.0991 - val_loss: 778.4107 - val_accuracy: 0.0996\n",
            "Epoch 4/10\n",
            "1407/1407 [==============================] - 2s 2ms/step - loss: 1231.3141 - accuracy: 0.0980 - val_loss: 308.3908 - val_accuracy: 0.1040\n",
            "Epoch 5/10\n",
            "1407/1407 [==============================] - 2s 2ms/step - loss: 606.0553 - accuracy: 0.0982 - val_loss: 58.8144 - val_accuracy: 0.1030\n",
            "Epoch 6/10\n",
            "1407/1407 [==============================] - 3s 2ms/step - loss: 288.7906 - accuracy: 0.0997 - val_loss: 2.6507 - val_accuracy: 0.0990\n",
            "Epoch 7/10\n",
            "1407/1407 [==============================] - 2s 2ms/step - loss: 135.6311 - accuracy: 0.0957 - val_loss: 2.3017 - val_accuracy: 0.0996\n",
            "Epoch 8/10\n",
            "1407/1407 [==============================] - 2s 2ms/step - loss: 60.9306 - accuracy: 0.0980 - val_loss: 2.3017 - val_accuracy: 0.0994\n",
            "Epoch 9/10\n",
            "1407/1407 [==============================] - 2s 2ms/step - loss: 38.8744 - accuracy: 0.0969 - val_loss: 2.4367 - val_accuracy: 0.0992\n",
            "Epoch 10/10\n",
            "1407/1407 [==============================] - 2s 2ms/step - loss: 15.4972 - accuracy: 0.1006 - val_loss: 2.3026 - val_accuracy: 0.0998\n"
          ]
        }
      ]
    },
    {
      "cell_type": "markdown",
      "source": [
        "CNN on the normal data"
      ],
      "metadata": {
        "id": "X1xmVWMaUzdE"
      },
      "id": "X1xmVWMaUzdE"
    },
    {
      "cell_type": "code",
      "source": [
        "model2 = models.Sequential()\n",
        "model2.add(layers.Conv2D(32, (3, 3), activation='relu', input_shape=(32, 32, 3)))\n",
        "model2.add(layers.MaxPooling2D((2, 2)))\n",
        "model2.add(layers.Conv2D(64, (3, 3), activation='relu'))\n",
        "model2.add(layers.MaxPooling2D((2, 2)))\n",
        "model2.add(layers.Conv2D(64, (3, 3), activation='relu'))\n"
      ],
      "metadata": {
        "id": "l3YvaepRU16H"
      },
      "id": "l3YvaepRU16H",
      "execution_count": 45,
      "outputs": []
    },
    {
      "cell_type": "code",
      "source": [
        "model2.add(layers.Flatten())\n",
        "model2.add(layers.Dense(64, activation='relu'))\n",
        "model2.add(layers.Dense(10))"
      ],
      "metadata": {
        "id": "VE9n_NXoVAPJ"
      },
      "id": "VE9n_NXoVAPJ",
      "execution_count": 46,
      "outputs": []
    },
    {
      "cell_type": "code",
      "source": [
        "model2.summary()"
      ],
      "metadata": {
        "colab": {
          "base_uri": "https://localhost:8080/"
        },
        "id": "6VC2T6BoVZ6Q",
        "outputId": "8f9ca604-9666-48ea-d6ed-05eda9f677af"
      },
      "id": "6VC2T6BoVZ6Q",
      "execution_count": 47,
      "outputs": [
        {
          "output_type": "stream",
          "name": "stdout",
          "text": [
            "Model: \"sequential_1\"\n",
            "_________________________________________________________________\n",
            " Layer (type)                Output Shape              Param #   \n",
            "=================================================================\n",
            " conv2d (Conv2D)             (None, 30, 30, 32)        896       \n",
            "                                                                 \n",
            " max_pooling2d (MaxPooling2D  (None, 15, 15, 32)       0         \n",
            " )                                                               \n",
            "                                                                 \n",
            " conv2d_1 (Conv2D)           (None, 13, 13, 64)        18496     \n",
            "                                                                 \n",
            " max_pooling2d_1 (MaxPooling  (None, 6, 6, 64)         0         \n",
            " 2D)                                                             \n",
            "                                                                 \n",
            " conv2d_2 (Conv2D)           (None, 4, 4, 64)          36928     \n",
            "                                                                 \n",
            " flatten (Flatten)           (None, 1024)              0         \n",
            "                                                                 \n",
            " dense_4 (Dense)             (None, 64)                65600     \n",
            "                                                                 \n",
            " dense_5 (Dense)             (None, 10)                650       \n",
            "                                                                 \n",
            "=================================================================\n",
            "Total params: 122,570\n",
            "Trainable params: 122,570\n",
            "Non-trainable params: 0\n",
            "_________________________________________________________________\n"
          ]
        }
      ]
    },
    {
      "cell_type": "code",
      "source": [
        "model2.compile(optimizer='adam',\n",
        "              loss=tf.keras.losses.SparseCategoricalCrossentropy(from_logits=True),\n",
        "              metrics=['accuracy'])\n",
        "\n",
        "history = model2.fit(X_train, y_train, epochs=10, \n",
        "                    validation_data=(X_test, y_test))\n"
      ],
      "metadata": {
        "colab": {
          "base_uri": "https://localhost:8080/"
        },
        "id": "RjqCjJvWVdUz",
        "outputId": "57c617da-dc7b-4940-b864-777ac45456f7"
      },
      "id": "RjqCjJvWVdUz",
      "execution_count": 48,
      "outputs": [
        {
          "output_type": "stream",
          "name": "stdout",
          "text": [
            "Epoch 1/10\n",
            "1563/1563 [==============================] - 72s 46ms/step - loss: 1.7223 - accuracy: 0.3915 - val_loss: 1.4216 - val_accuracy: 0.4790\n",
            "Epoch 2/10\n",
            "1563/1563 [==============================] - 72s 46ms/step - loss: 1.3551 - accuracy: 0.5167 - val_loss: 1.2591 - val_accuracy: 0.5544\n",
            "Epoch 3/10\n",
            "1563/1563 [==============================] - 72s 46ms/step - loss: 1.1903 - accuracy: 0.5806 - val_loss: 1.1506 - val_accuracy: 0.5896\n",
            "Epoch 4/10\n",
            "1563/1563 [==============================] - 72s 46ms/step - loss: 1.0853 - accuracy: 0.6196 - val_loss: 1.1459 - val_accuracy: 0.6013\n",
            "Epoch 5/10\n",
            "1563/1563 [==============================] - 73s 47ms/step - loss: 0.9954 - accuracy: 0.6533 - val_loss: 1.1063 - val_accuracy: 0.6172\n",
            "Epoch 6/10\n",
            "1563/1563 [==============================] - 72s 46ms/step - loss: 0.9319 - accuracy: 0.6756 - val_loss: 1.0578 - val_accuracy: 0.6475\n",
            "Epoch 7/10\n",
            "1563/1563 [==============================] - 72s 46ms/step - loss: 0.8707 - accuracy: 0.6979 - val_loss: 1.0442 - val_accuracy: 0.6483\n",
            "Epoch 8/10\n",
            "1563/1563 [==============================] - 72s 46ms/step - loss: 0.8201 - accuracy: 0.7128 - val_loss: 1.0379 - val_accuracy: 0.6610\n",
            "Epoch 9/10\n",
            "1563/1563 [==============================] - 72s 46ms/step - loss: 0.7747 - accuracy: 0.7283 - val_loss: 1.0533 - val_accuracy: 0.6538\n",
            "Epoch 10/10\n",
            "1563/1563 [==============================] - 72s 46ms/step - loss: 0.7323 - accuracy: 0.7469 - val_loss: 1.1040 - val_accuracy: 0.6574\n"
          ]
        }
      ]
    },
    {
      "cell_type": "code",
      "source": [
        "plt.plot(history.history['accuracy'], label='accuracy')\n",
        "plt.plot(history.history['val_accuracy'], label = 'val_accuracy')\n",
        "plt.xlabel('Epoch')\n",
        "plt.ylabel('Accuracy')\n",
        "plt.ylim([0.5, 1])\n",
        "plt.legend(loc='lower right')\n",
        "\n",
        "test_loss, test_acc = model2.evaluate(X_test,  y_test, verbose=2)\n"
      ],
      "metadata": {
        "colab": {
          "base_uri": "https://localhost:8080/",
          "height": 0
        },
        "id": "2LICM9_MVqx_",
        "outputId": "bdc81894-2832-4dad-ce67-2194b5ab8e19"
      },
      "id": "2LICM9_MVqx_",
      "execution_count": 49,
      "outputs": [
        {
          "output_type": "stream",
          "name": "stdout",
          "text": [
            "313/313 - 4s - loss: 1.1040 - accuracy: 0.6574 - 4s/epoch - 12ms/step\n"
          ]
        },
        {
          "output_type": "display_data",
          "data": {
            "image/png": "[encoded data removed]",
            "text/plain": [
              "<Figure size 432x288 with 1 Axes>"
            ]
          },
          "metadata": {
            "needs_background": "light"
          }
        }
      ]
    },
    {
      "cell_type": "markdown",
      "source": [
        "# Error Analysis"
      ],
      "metadata": {
        "id": "RTiGhWQzbc2t"
      },
      "id": "RTiGhWQzbc2t"
    },
    {
      "cell_type": "code",
      "source": [
        "from sklearn.metrics import confusion_matrix\n",
        "from sklearn import metrics"
      ],
      "metadata": {
        "id": "ux1tZs-XZi6C"
      },
      "id": "ux1tZs-XZi6C",
      "execution_count": 54,
      "outputs": []
    },
    {
      "cell_type": "code",
      "source": [
        "def plot_confusion_matrix(cm, names, title='Confusion matrix', cmap=plt.cm.Blues):\n",
        "    plt.imshow(cm, interpolation='nearest', cmap=cmap)\n",
        "    plt.title(title)\n",
        "    plt.colorbar()\n",
        "    tick_marks = np.arange(len(names))\n",
        "    plt.xticks(tick_marks, names, rotation=90)\n",
        "    plt.yticks(tick_marks, names)\n",
        "    plt.tight_layout()\n",
        "    plt.ylabel('True label')\n",
        "    plt.xlabel('Predicted label')"
      ],
      "metadata": {
        "id": "3EfqJ-Ig_YVh"
      },
      "id": "3EfqJ-Ig_YVh",
      "execution_count": 77,
      "outputs": []
    },
    {
      "cell_type": "code",
      "source": [
        "cnn_pred = model2.predict(X_test)\n",
        "cnn_pred = np.argmax(cnn_pred,axis=1)\n",
        "\n",
        "cnn_f1 = metrics.f1_score(y_test, cnn_pred, average= \"weighted\")\n",
        "cnn_accuracy= metrics.accuracy_score(y_test, cnn_pred)\n",
        "cnn_cm = metrics.confusion_matrix(y_test, cnn_pred)\n",
        "print(\"-----------------Convolutional Neural Network Report---------------\")\n",
        "print(\"F1 score: {}\".format(cnn_f1))\n",
        "print(\"Accuracy score: {}\".format(cnn_accuracy))\n",
        "print(\"Confusion matrix: \\n\", cnn_cm)\n",
        "print('Plotting confusion matrix')\n",
        "\n",
        "plt.figure()\n",
        "plot_confusion_matrix(knn_cm, labelNames)\n",
        "plt.show()\n",
        "\n",
        "print(metrics.classification_report(y_test, cnn_pred))"
      ],
      "metadata": {
        "colab": {
          "base_uri": "https://localhost:8080/",
          "height": 866
        },
        "id": "j7gm8K-_9bI-",
        "outputId": "57200d83-5a95-4064-85a4-3acd338af5c7"
      },
      "id": "j7gm8K-_9bI-",
      "execution_count": 82,
      "outputs": [
        {
          "output_type": "stream",
          "name": "stdout",
          "text": [
            "-----------------Convolutional Neural Network Report---------------\n",
            "F1 score: 0.6579962374811126\n",
            "Accuracy score: 0.6574\n",
            "Confusion matrix: \n",
            " [[678  18  54  28  10  13   5  33 134  27]\n",
            " [ 31 790   5  18   5   3   7  17  36  88]\n",
            " [ 80   3 590  68  62  83  27  64  15   8]\n",
            " [ 36   9  79 409  52 258  19  87  32  19]\n",
            " [ 32   5  94  69 561  74  13 127  21   4]\n",
            " [ 17   2  69 138  21 649   3  71  19  11]\n",
            " [  7   3  93 163  56  39 589  27  13  10]\n",
            " [ 11   3  37  40  33  91   0 762   7  16]\n",
            " [ 66  34  11  11   7  11   5  12 813  30]\n",
            " [ 37  79  12  13  17  12   7  37  53 733]]\n",
            "Plotting confusion matrix\n"
          ]
        },
        {
          "output_type": "display_data",
          "data": {
            "image/png": "[encoded data removed]",
            "text/plain": [
              "<Figure size 432x288 with 2 Axes>"
            ]
          },
          "metadata": {
            "needs_background": "light"
          }
        },
        {
          "output_type": "stream",
          "name": "stdout",
          "text": [
            "              precision    recall  f1-score   support\n",
            "\n",
            "           0       0.68      0.68      0.68      1000\n",
            "           1       0.84      0.79      0.81      1000\n",
            "           2       0.57      0.59      0.58      1000\n",
            "           3       0.43      0.41      0.42      1000\n",
            "           4       0.68      0.56      0.62      1000\n",
            "           5       0.53      0.65      0.58      1000\n",
            "           6       0.87      0.59      0.70      1000\n",
            "           7       0.62      0.76      0.68      1000\n",
            "           8       0.71      0.81      0.76      1000\n",
            "           9       0.77      0.73      0.75      1000\n",
            "\n",
            "    accuracy                           0.66     10000\n",
            "   macro avg       0.67      0.66      0.66     10000\n",
            "weighted avg       0.67      0.66      0.66     10000\n",
            "\n"
          ]
        }
      ]
    },
    {
      "cell_type": "code",
      "source": [
        "X_test_transformed = convert(X_test)\n",
        "X_test_m = c_momentum(X_test_transformed, c  = 3)\n",
        "y_test = y_test.ravel()"
      ],
      "metadata": {
        "id": "3CxQXZ_U1sqB"
      },
      "id": "3CxQXZ_U1sqB",
      "execution_count": 52,
      "outputs": []
    },
    {
      "cell_type": "code",
      "source": [
        "# SVM report and analysis\n",
        "y_pred_svc = svc1.predict(X_test_m)\n",
        "svc_f1 = metrics.f1_score(y_test, y_pred_svc, average= \"weighted\")\n",
        "svc_accuracy = metrics.accuracy_score(y_test, y_pred_svc)\n",
        "svc_cm = metrics.confusion_matrix(y_test, y_pred_svc)\n",
        "print(\"-----------------SVM Report---------------\")\n",
        "print(\"F1 score: {}\".format(svc_f1))\n",
        "print(\"Accuracy score: {}\".format(svc_accuracy))\n",
        "print(\"Confusion matrix: \\n\", svc_cm)\n",
        "print('Plotting confusion matrix')\n",
        "\n",
        "plt.figure()\n",
        "plot_confusion_matrix(knn_cm, labelNames)\n",
        "plt.show()\n",
        "\n",
        "print(metrics.classification_report(y_test, y_pred_svc))"
      ],
      "metadata": {
        "id": "Um3voWv-56DX",
        "outputId": "1abd196c-4d7b-4c0f-964f-42032f2b5668",
        "colab": {
          "base_uri": "https://localhost:8080/",
          "height": 990
        }
      },
      "id": "Um3voWv-56DX",
      "execution_count": 81,
      "outputs": [
        {
          "output_type": "stream",
          "name": "stdout",
          "text": [
            "-----------------SVM Report---------------\n",
            "F1 score: 0.15602505642802258\n",
            "Accuracy score: 0.185\n",
            "Confusion matrix: \n",
            " [[397   0   0   1 103   7  68 133 243  48]\n",
            " [141   0   0   7 184  32 243 205 108  80]\n",
            " [168   0   0  12 177  29 195 186 128 105]\n",
            " [143   2   0  38 138  96 228 161 104  90]\n",
            " [ 64   0   0   9 238  20 259 234 119  57]\n",
            " [110   1   0  18 154 168 164 141 172  72]\n",
            " [ 98   0   0  10 218  29 336 170  71  68]\n",
            " [119   0   0  11 186  44 134 248 151 107]\n",
            " [218   0   0   4 142  45  70 178 285  58]\n",
            " [159   0   0   7 160  31  88 228 187 140]]\n",
            "Plotting confusion matrix\n"
          ]
        },
        {
          "output_type": "display_data",
          "data": {
            "image/png": "[encoded data removed]",
            "text/plain": [
              "<Figure size 432x288 with 2 Axes>"
            ]
          },
          "metadata": {
            "needs_background": "light"
          }
        },
        {
          "output_type": "stream",
          "name": "stdout",
          "text": [
            "              precision    recall  f1-score   support\n",
            "\n",
            "           0       0.25      0.40      0.30      1000\n",
            "           1       0.00      0.00      0.00      1000\n",
            "           2       0.00      0.00      0.00      1000\n",
            "           3       0.32      0.04      0.07      1000\n",
            "           4       0.14      0.24      0.18      1000\n",
            "           5       0.34      0.17      0.22      1000\n",
            "           6       0.19      0.34      0.24      1000\n",
            "           7       0.13      0.25      0.17      1000\n",
            "           8       0.18      0.28      0.22      1000\n",
            "           9       0.17      0.14      0.15      1000\n",
            "\n",
            "    accuracy                           0.18     10000\n",
            "   macro avg       0.17      0.18      0.16     10000\n",
            "weighted avg       0.17      0.18      0.16     10000\n",
            "\n"
          ]
        },
        {
          "output_type": "stream",
          "name": "stderr",
          "text": [
            "/usr/local/lib/python3.7/dist-packages/sklearn/metrics/_classification.py:1308: UndefinedMetricWarning: Precision and F-score are ill-defined and being set to 0.0 in labels with no predicted samples. Use `zero_division` parameter to control this behavior.\n",
            "  _warn_prf(average, modifier, msg_start, len(result))\n",
            "/usr/local/lib/python3.7/dist-packages/sklearn/metrics/_classification.py:1308: UndefinedMetricWarning: Precision and F-score are ill-defined and being set to 0.0 in labels with no predicted samples. Use `zero_division` parameter to control this behavior.\n",
            "  _warn_prf(average, modifier, msg_start, len(result))\n",
            "/usr/local/lib/python3.7/dist-packages/sklearn/metrics/_classification.py:1308: UndefinedMetricWarning: Precision and F-score are ill-defined and being set to 0.0 in labels with no predicted samples. Use `zero_division` parameter to control this behavior.\n",
            "  _warn_prf(average, modifier, msg_start, len(result))\n"
          ]
        }
      ]
    },
    {
      "cell_type": "code",
      "source": [
        "# RandomForest report and analysis\n",
        "y_pred_forest = forest1.predict(X_test_m)\n",
        "forest_f1 = metrics.f1_score(y_test, y_pred_forest, average= \"weighted\")\n",
        "forest_accuracy = metrics.accuracy_score(y_test, y_pred_forest)\n",
        "forest_cm = metrics.confusion_matrix(y_test, y_pred_forest)\n",
        "print(\"-----------------RandomForest Report---------------\")\n",
        "print(\"F1 score: {}\".format(forest_f1))\n",
        "print(\"Accuracy score: {}\".format(forest_accuracy))\n",
        "print(\"Confusion matrix: \\n\", forest_cm)\n",
        "print('Plotting confusion matrix')\n",
        "\n",
        "plt.figure()\n",
        "plot_confusion_matrix(knn_cm, labelNames)\n",
        "plt.show()\n",
        "\n",
        "print(metrics.classification_report(y_test, y_pred_forest))"
      ],
      "metadata": {
        "id": "oWkmnVFg7JmB",
        "outputId": "649588bd-6b98-478d-8738-ea914a5c8e6f",
        "colab": {
          "base_uri": "https://localhost:8080/",
          "height": 866
        }
      },
      "id": "oWkmnVFg7JmB",
      "execution_count": 80,
      "outputs": [
        {
          "output_type": "stream",
          "name": "stdout",
          "text": [
            "-----------------RandomForest Report---------------\n",
            "F1 score: 0.1734389336537169\n",
            "Accuracy score: 0.1754\n",
            "Confusion matrix: \n",
            " [[329  78  81  53  82  38  69  71 149  50]\n",
            " [107 129 103  78 114  71 134  85  70 109]\n",
            " [117  94  95  86 133  83 125  83  96  88]\n",
            " [ 78  92  77 155  91 153  90  63  89 112]\n",
            " [ 84  99  99  58 175  67 163  94  91  70]\n",
            " [ 70  83  63 148  55 249  90  71  81  90]\n",
            " [ 55 125 102  86 139  71 181  83  54 104]\n",
            " [ 86 103  82 100 125  83  81 134  89 117]\n",
            " [186  73  81  77  92  85  72  83 158  93]\n",
            " [ 96 120  82  99  72  82  93 110  97 149]]\n",
            "Plotting confusion matrix\n"
          ]
        },
        {
          "output_type": "display_data",
          "data": {
            "image/png": "[encoded data removed]",
            "text/plain": [
              "<Figure size 432x288 with 2 Axes>"
            ]
          },
          "metadata": {
            "needs_background": "light"
          }
        },
        {
          "output_type": "stream",
          "name": "stdout",
          "text": [
            "              precision    recall  f1-score   support\n",
            "\n",
            "           0       0.27      0.33      0.30      1000\n",
            "           1       0.13      0.13      0.13      1000\n",
            "           2       0.11      0.10      0.10      1000\n",
            "           3       0.16      0.15      0.16      1000\n",
            "           4       0.16      0.17      0.17      1000\n",
            "           5       0.25      0.25      0.25      1000\n",
            "           6       0.16      0.18      0.17      1000\n",
            "           7       0.15      0.13      0.14      1000\n",
            "           8       0.16      0.16      0.16      1000\n",
            "           9       0.15      0.15      0.15      1000\n",
            "\n",
            "    accuracy                           0.18     10000\n",
            "   macro avg       0.17      0.18      0.17     10000\n",
            "weighted avg       0.17      0.18      0.17     10000\n",
            "\n"
          ]
        }
      ]
    },
    {
      "cell_type": "code",
      "source": [
        "# KNN report and analysis\n",
        "y_pred_knn = knn3.predict(X_test_m)\n",
        "knn_f1 = metrics.f1_score(y_test, y_pred_knn, average= \"weighted\")\n",
        "knn_accuracy = metrics.accuracy_score(y_test, y_pred_knn)\n",
        "knn_cm = metrics.confusion_matrix(y_test, y_pred_knn)\n",
        "print(\"-----------------KNN Report---------------\")\n",
        "print(\"F1 score: {}\".format(knn_f1))\n",
        "print(\"Accuracy score: {}\".format(knn_accuracy))\n",
        "print(\"Confusion matrix: \\n\", knn_cm)\n",
        "print('Plotting confusion matrix')\n",
        "\n",
        "plt.figure()\n",
        "plot_confusion_matrix(knn_cm, labelNames)\n",
        "plt.show()\n",
        "\n",
        "print(metrics.classification_report(y_test, y_pred_knn))"
      ],
      "metadata": {
        "id": "evI00BE17KbQ",
        "outputId": "1c6d4f42-8507-427e-a4ba-cdaf0d40f42f",
        "colab": {
          "base_uri": "https://localhost:8080/",
          "height": 866
        }
      },
      "id": "evI00BE17KbQ",
      "execution_count": 78,
      "outputs": [
        {
          "output_type": "stream",
          "name": "stdout",
          "text": [
            "-----------------KNN Report---------------\n",
            "F1 score: 0.16019695625797453\n",
            "Accuracy score: 0.1673\n",
            "Confusion matrix: \n",
            " [[400  99  87  45  83  42  50  60 103  31]\n",
            " [148 188 128  91 106  64 104  64  57  50]\n",
            " [165 162 137  91 109  57 101  66  67  45]\n",
            " [136 145  92 166  89 124  78  58  55  57]\n",
            " [128 154 130  73 175  45 117  81  62  35]\n",
            " [106 144  86 133  60 200  73  70  81  47]\n",
            " [114 187 120 101 131  60 140  69  33  45]\n",
            " [141 151 111  90 133  80  68 100  68  58]\n",
            " [259 124 102  70 113  65  50  53 104  60]\n",
            " [160 179  92  98  92  73  78  88  77  63]]\n",
            "Plotting confusion matrix\n"
          ]
        },
        {
          "output_type": "display_data",
          "data": {
            "image/png": "[encoded data removed]",
            "text/plain": [
              "<Figure size 432x288 with 2 Axes>"
            ]
          },
          "metadata": {
            "needs_background": "light"
          }
        },
        {
          "output_type": "stream",
          "name": "stdout",
          "text": [
            "              precision    recall  f1-score   support\n",
            "\n",
            "           0       0.23      0.40      0.29      1000\n",
            "           1       0.12      0.19      0.15      1000\n",
            "           2       0.13      0.14      0.13      1000\n",
            "           3       0.17      0.17      0.17      1000\n",
            "           4       0.16      0.17      0.17      1000\n",
            "           5       0.25      0.20      0.22      1000\n",
            "           6       0.16      0.14      0.15      1000\n",
            "           7       0.14      0.10      0.12      1000\n",
            "           8       0.15      0.10      0.12      1000\n",
            "           9       0.13      0.06      0.08      1000\n",
            "\n",
            "    accuracy                           0.17     10000\n",
            "   macro avg       0.16      0.17      0.16     10000\n",
            "weighted avg       0.16      0.17      0.16     10000\n",
            "\n"
          ]
        }
      ]
    },
    {
      "cell_type": "code",
      "source": [
        "# DecisionTree report and analysis\n",
        "y_pred_tree = tree3.predict(X_test_m)\n",
        "tree_f1 = metrics.f1_score(y_test, y_pred_tree, average= \"weighted\")\n",
        "tree_accuracy = metrics.accuracy_score(y_test, y_pred_tree)\n",
        "tree_cm = metrics.confusion_matrix(y_test, y_pred_tree)\n",
        "print(\"-----------------DecisionTree Report---------------\")\n",
        "print(\"F1 score: {}\".format(tree_f1))\n",
        "print(\"Accuracy score: {}\".format(tree_accuracy))\n",
        "print(\"Confusion matrix: \\n\", tree_cm)\n",
        "print('Plotting confusion matrix')\n",
        "\n",
        "plt.figure()\n",
        "plot_confusion_matrix(knn_cm, labelNames)\n",
        "plt.show()\n",
        "\n",
        "print(metrics.classification_report(y_test, y_pred_tree))"
      ],
      "metadata": {
        "colab": {
          "base_uri": "https://localhost:8080/",
          "height": 866
        },
        "id": "zCJAxTzM1cfN",
        "outputId": "6d9b49b6-138a-48b3-e92f-c0fe4229a5cf"
      },
      "id": "zCJAxTzM1cfN",
      "execution_count": 79,
      "outputs": [
        {
          "output_type": "stream",
          "name": "stdout",
          "text": [
            "-----------------DecisionTree Report---------------\n",
            "F1 score: 0.13799806248136035\n",
            "Accuracy score: 0.138\n",
            "Confusion matrix: \n",
            " [[201 103  90  53 101  58  66  84 158  86]\n",
            " [ 87 123 108  75 123  82 109 107  83 103]\n",
            " [ 81  96  99  91 121  89 118  91  93 121]\n",
            " [ 77 103  98 129  74 121 109  89  93 107]\n",
            " [ 78 144  93  84 142  78 108 101  97  75]\n",
            " [ 78  93  94 119  70 180  91  81 100  94]\n",
            " [ 65 125 116  81 110  98 134  93  90  88]\n",
            " [ 90  93 105 101 104 104  94 108  98 103]\n",
            " [148  87  78  85  91  95  85  96 128 107]\n",
            " [ 95 115  80  87  84  90  89 126  98 136]]\n",
            "Plotting confusion matrix\n"
          ]
        },
        {
          "output_type": "display_data",
          "data": {
            "image/png": "[encoded data removed]",
            "text/plain": [
              "<Figure size 432x288 with 2 Axes>"
            ]
          },
          "metadata": {
            "needs_background": "light"
          }
        },
        {
          "output_type": "stream",
          "name": "stdout",
          "text": [
            "              precision    recall  f1-score   support\n",
            "\n",
            "           0       0.20      0.20      0.20      1000\n",
            "           1       0.11      0.12      0.12      1000\n",
            "           2       0.10      0.10      0.10      1000\n",
            "           3       0.14      0.13      0.14      1000\n",
            "           4       0.14      0.14      0.14      1000\n",
            "           5       0.18      0.18      0.18      1000\n",
            "           6       0.13      0.13      0.13      1000\n",
            "           7       0.11      0.11      0.11      1000\n",
            "           8       0.12      0.13      0.13      1000\n",
            "           9       0.13      0.14      0.13      1000\n",
            "\n",
            "    accuracy                           0.14     10000\n",
            "   macro avg       0.14      0.14      0.14     10000\n",
            "weighted avg       0.14      0.14      0.14     10000\n",
            "\n"
          ]
        }
      ]
    }
  ],
  "metadata": {
    "colab": {
      "collapsed_sections": [],
      "name": "Ml_Project.ipynb",
      "provenance": []
    },
    "kernelspec": {
      "display_name": "Python 3",
      "language": "python",
      "name": "python3"
    },
    "language_info": {
      "codemirror_mode": {
        "name": "ipython",
        "version": 3
      },
      "file_extension": ".py",
      "mimetype": "text/x-python",
      "name": "python",
      "nbconvert_exporter": "python",
      "pygments_lexer": "ipython3",
      "version": "3.8.8"
    }
  },
  "nbformat": 4,
  "nbformat_minor": 5
}