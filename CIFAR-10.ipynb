{
 "cells": [
  {
   "cell_type": "markdown",
   "id": "ug5JIxQF_XAw",
   "metadata": {
    "id": "ug5JIxQF_XAw"
   },
   "source": [
    "# Theoretical Foundations of Machine Learning Final Project \n",
    "\n",
    "1.Youseef Osama Ahmed\n",
    "2.Mohammad Alameen Abdilaziz\n",
    "3.Osama Khaled Abd-elghaffar \n",
    "4.Mahmoud Amr Mahmoud \n",
    "5.Amira Ali Elsayed \n"
   ]
  },
  {
   "cell_type": "code",
   "execution_count": 1,
   "id": "e201e094",
   "metadata": {
    "id": "e201e094"
   },
   "outputs": [],
   "source": [
    "import numpy as np"
   ]
  },
  {
   "cell_type": "markdown",
   "id": "-Mb3qDer_EAE",
   "metadata": {
    "id": "-Mb3qDer_EAE"
   },
   "source": [
    "# Loading the data\n",
    "Using the keras datasets to load the data, the data is already splitted into train and test portions.\n",
    "We are just going to take a portion of the train set and make it our validation set"
   ]
  },
  {
   "cell_type": "code",
   "execution_count": 2,
   "id": "e44f28f7",
   "metadata": {
    "colab": {
     "base_uri": "https://localhost:8080/"
    },
    "id": "e44f28f7",
    "outputId": "11cec464-eb59-45c8-f677-18e26b0a44b4"
   },
   "outputs": [
    {
     "name": "stdout",
     "output_type": "stream",
     "text": [
      "Downloading data from https://www.cs.toronto.edu/~kriz/cifar-10-python.tar.gz\n",
      "170500096/170498071 [==============================] - 6s 0us/step\n",
      "170508288/170498071 [==============================] - 6s 0us/step\n"
     ]
    }
   ],
   "source": [
    "from keras.datasets import cifar10\n",
    "(X_train, y_train), (X_test, y_test) = cifar10.load_data()"
   ]
  },
  {
   "cell_type": "markdown",
   "id": "ro010urCCIUO",
   "metadata": {
    "id": "ro010urCCIUO"
   },
   "source": [
    "# Exploring the Data"
   ]
  },
  {
   "cell_type": "code",
   "execution_count": 3,
   "id": "IdRT33ujCHw6",
   "metadata": {
    "colab": {
     "base_uri": "https://localhost:8080/",
     "height": 0
    },
    "id": "IdRT33ujCHw6",
    "outputId": "89b26550-e4a6-49ca-ce27-115d06eed320"
   },
   "outputs": [
    {
     "data": {
      "text/plain": [
       "(<matplotlib.image.AxesImage at 0x7f9997d5b790>, array([9], dtype=uint8))"
      ]
     },
     "execution_count": 3,
     "metadata": {},
     "output_type": "execute_result"
    },
    {
     "data": {
      "image/png": "[encoded data removed]",
      "text/plain": [
       "<Figure size 432x288 with 1 Axes>"
      ]
     },
     "metadata": {
      "needs_background": "light"
     },
     "output_type": "display_data"
    }
   ],
   "source": [
    "import matplotlib.pyplot as plt\n",
    "index = 88\n",
    "plt.imshow(X_train[index]), y_train[index]"
   ]
  },
  {
   "cell_type": "markdown",
   "id": "4hq9vOyijPbk",
   "metadata": {
    "id": "4hq9vOyijPbk"
   },
   "source": [
    "some image are too bad even a human being can't recognize it given the following image which is suppose to be for a **Deer**"
   ]
  },
  {
   "cell_type": "code",
   "execution_count": 4,
   "id": "eRrO6_TTjYI_",
   "metadata": {
    "colab": {
     "base_uri": "https://localhost:8080/",
     "height": 0
    },
    "id": "eRrO6_TTjYI_",
    "outputId": "bc53b6c7-9dff-493a-ba42-7a7cd735eff2"
   },
   "outputs": [
    {
     "data": {
      "text/plain": [
       "(<matplotlib.image.AxesImage at 0x7f9997845890>, array([4], dtype=uint8))"
      ]
     },
     "execution_count": 4,
     "metadata": {},
     "output_type": "execute_result"
    },
    {
     "data": {
      "image/png": "[encoded data removed]",
      "text/plain": [
       "<Figure size 432x288 with 1 Axes>"
      ]
     },
     "metadata": {
      "needs_background": "light"
     },
     "output_type": "display_data"
    }
   ],
   "source": [
    "plt.imshow(X_train[10]), y_train[10]"
   ]
  },
  {
   "cell_type": "code",
   "execution_count": 5,
   "id": "P8X5EVEsGt0A",
   "metadata": {
    "id": "P8X5EVEsGt0A"
   },
   "outputs": [],
   "source": [
    "labels = {0:  'airplane',   #back to the documntation\n",
    "          1:  'automobile',\n",
    "          2:  'bird', \n",
    "          3:  'cat', \n",
    "          4:  'deer', \n",
    "          5:  'dog', \n",
    "          6:  'frog', \n",
    "          7:  'horse', \n",
    "          8:  'ship', \n",
    "          9:  'truck'}\n"
   ]
  },
  {
   "cell_type": "code",
   "execution_count": 6,
   "id": "0xnDO51hI4lB",
   "metadata": {
    "colab": {
     "base_uri": "https://localhost:8080/"
    },
    "id": "0xnDO51hI4lB",
    "outputId": "52fa285a-a340-4965-ce5d-9d8f71ef821d"
   },
   "outputs": [
    {
     "data": {
      "text/plain": [
       "{0: 5000,\n",
       " 1: 5000,\n",
       " 2: 5000,\n",
       " 3: 5000,\n",
       " 4: 5000,\n",
       " 5: 5000,\n",
       " 6: 5000,\n",
       " 7: 5000,\n",
       " 8: 5000,\n",
       " 9: 5000}"
      ]
     },
     "execution_count": 6,
     "metadata": {},
     "output_type": "execute_result"
    }
   ],
   "source": [
    "unique, counts = np.unique(y_train, return_counts=True) #all the classes equal to each other\n",
    "dict(zip(unique, counts))"
   ]
  },
  {
   "cell_type": "markdown",
   "id": "AyaWCW3xbZns",
   "metadata": {
    "id": "AyaWCW3xbZns"
   },
   "source": [
    "# Data Preprocessing"
   ]
  },
  {
   "cell_type": "code",
   "execution_count": 7,
   "id": "n_c9pAvz_EzT",
   "metadata": {
    "id": "n_c9pAvz_EzT"
   },
   "outputs": [],
   "source": [
    "labelNames = [\"airplane\", \"automobile\", \"bird\", \"cat\", \"deer\", \"dog\", \"frog\", \"horse\", \"ship\", \"truck\"]"
   ]
  },
  {
   "cell_type": "markdown",
   "id": "CXDgnllgowxh",
   "metadata": {
    "id": "CXDgnllgowxh"
   },
   "source": [
    "## Avg Pooling"
   ]
  },
  {
   "cell_type": "markdown",
   "id": "5yTeOWZ2b30u",
   "metadata": {
    "id": "5yTeOWZ2b30u"
   },
   "source": [
    " looking at the first image at the first pixel (0, 0) coordinates,at each pixel we got three RGB values and we are going to replace them by a single value computed by their avreage."
   ]
  },
  {
   "cell_type": "code",
   "execution_count": 8,
   "id": "H3lrd0r5bfzN",
   "metadata": {
    "id": "H3lrd0r5bfzN"
   },
   "outputs": [],
   "source": [
    "def avg_pixels(data):\n",
    "  data_avg = data.copy()\n",
    "  for i in range(len(data)): #looping over the data\n",
    "    for x in range(len(data[0])): #looping over the x_coordinates\n",
    "      for y in range(len(data[0].T[0])): #looping over the y_coordinates\n",
    "        data_avg[i][x][y] = np.average(data[i][x][y])\n",
    "  return data_avg"
   ]
  },
  {
   "cell_type": "code",
   "execution_count": 9,
   "id": "Shkm1OKwkohB",
   "metadata": {
    "id": "Shkm1OKwkohB"
   },
   "outputs": [],
   "source": [
    "X_train_avg = avg_pixels(X_train)"
   ]
  },
  {
   "cell_type": "code",
   "execution_count": 10,
   "id": "0U-A3gDqeD5-",
   "metadata": {
    "colab": {
     "base_uri": "https://localhost:8080/"
    },
    "id": "0U-A3gDqeD5-",
    "outputId": "311633b3-c9d2-47fd-ba64-887d1dff8dc9"
   },
   "outputs": [
    {
     "data": {
      "text/plain": [
       "50000"
      ]
     },
     "execution_count": 10,
     "metadata": {},
     "output_type": "execute_result"
    }
   ],
   "source": [
    "len(X_train_avg) #for debugging"
   ]
  },
  {
   "cell_type": "markdown",
   "id": "UeN80xRYj0Ed",
   "metadata": {
    "id": "UeN80xRYj0Ed"
   },
   "source": [
    "After Averging the images there is no change, they are only converted into gray images like the following examples"
   ]
  },
  {
   "cell_type": "code",
   "execution_count": 11,
   "id": "j2UEX0TJlO3W",
   "metadata": {
    "colab": {
     "base_uri": "https://localhost:8080/",
     "height": 0
    },
    "id": "j2UEX0TJlO3W",
    "outputId": "c9660c9f-2239-4e31-ff91-d5c95e5fb36c"
   },
   "outputs": [
    {
     "data": {
      "text/plain": [
       "<matplotlib.image.AxesImage at 0x7f9997711810>"
      ]
     },
     "execution_count": 11,
     "metadata": {},
     "output_type": "execute_result"
    },
    {
     "data": {
      "image/png": "[encoded data removed]",
      "text/plain": [
       "<Figure size 432x288 with 4 Axes>"
      ]
     },
     "metadata": {
      "needs_background": "light"
     },
     "output_type": "display_data"
    }
   ],
   "source": [
    "f, axarr = plt.subplots(2,2)\n",
    "axarr[0,0].imshow(X_train[1])\n",
    "axarr[0,1].imshow(X_train_avg[1])\n",
    "axarr[1,0].imshow(X_train[100])\n",
    "axarr[1,1].imshow(X_train_avg[100])"
   ]
  },
  {
   "cell_type": "markdown",
   "id": "_Cta3hNuxHu0",
   "metadata": {
    "id": "_Cta3hNuxHu0"
   },
   "source": [
    "Since now all the RGB channels got the same value no need to keep them all, instead we are going to keep only a single chanel, converting each image into a 32x32 matrix, which will provide an efficient way in computation      \n",
    "ex. the first pixel of the first image will get the values (61, 61, 61) so  we will make it one channel (61)"
   ]
  },
  {
   "cell_type": "code",
   "execution_count": 12,
   "id": "Zj3vSERnxmCY",
   "metadata": {
    "colab": {
     "base_uri": "https://localhost:8080/"
    },
    "id": "Zj3vSERnxmCY",
    "outputId": "69b37b13-a73f-4df0-e71d-4e8a3ae31b9c"
   },
   "outputs": [
    {
     "data": {
      "text/plain": [
       "array([61, 61, 61], dtype=uint8)"
      ]
     },
     "execution_count": 12,
     "metadata": {},
     "output_type": "execute_result"
    }
   ],
   "source": [
    "X_train_avg[0][0][0]"
   ]
  },
  {
   "cell_type": "code",
   "execution_count": 13,
   "id": "IpPzTiJc04A4",
   "metadata": {
    "id": "IpPzTiJc04A4"
   },
   "outputs": [],
   "source": [
    "def convert(data):\n",
    "  X_train_avg = avg_pixels(data)\n",
    "  imgs = []\n",
    "  for i in range(len(data)):\n",
    "    img = []\n",
    "    for j in range(len(data[0])):\n",
    "      tmp = [int(np.unique(hold)[0]) for hold in X_train_avg[i][j]]\n",
    "      img.append(tmp)\n",
    "    imgs.append(img)\n",
    "  return np.asarray(imgs)"
   ]
  },
  {
   "cell_type": "code",
   "execution_count": 14,
   "id": "N59dy16f4TCm",
   "metadata": {
    "id": "N59dy16f4TCm"
   },
   "outputs": [],
   "source": [
    "X_train_conv = convert(X_train)"
   ]
  },
  {
   "cell_type": "code",
   "execution_count": 15,
   "id": "aL8d1jVHeto_",
   "metadata": {
    "colab": {
     "base_uri": "https://localhost:8080/"
    },
    "id": "aL8d1jVHeto_",
    "outputId": "3d80f491-20a9-4bf7-8267-6a12336fdf09"
   },
   "outputs": [
    {
     "data": {
      "text/plain": [
       "50000"
      ]
     },
     "execution_count": 15,
     "metadata": {},
     "output_type": "execute_result"
    }
   ],
   "source": [
    "len(X_train_conv)"
   ]
  },
  {
   "cell_type": "markdown",
   "id": "kUgsZhQ46LZy",
   "metadata": {
    "id": "kUgsZhQ46LZy"
   },
   "source": [
    "a sample for converted image into 32 * 32 "
   ]
  },
  {
   "cell_type": "code",
   "execution_count": 16,
   "id": "KkdkIq4O6FWf",
   "metadata": {
    "colab": {
     "base_uri": "https://localhost:8080/"
    },
    "id": "KkdkIq4O6FWf",
    "outputId": "9790aca7-ad07-4181-f217-0e53d7878bd2"
   },
   "outputs": [
    {
     "data": {
      "text/plain": [
       "7328586"
      ]
     },
     "execution_count": 16,
     "metadata": {},
     "output_type": "execute_result"
    }
   ],
   "source": [
    "max(X_train_conv[0].flatten()) * 29791"
   ]
  },
  {
   "cell_type": "markdown",
   "id": "-2WRNc6OtGXm",
   "metadata": {
    "id": "-2WRNc6OtGXm"
   },
   "source": [
    "## Applying the momentum "
   ]
  },
  {
   "cell_type": "code",
   "execution_count": 17,
   "id": "Lc-4mLD3tLm_",
   "metadata": {
    "id": "Lc-4mLD3tLm_"
   },
   "outputs": [],
   "source": [
    "def c_momentum(data, c = 3):\n",
    "  m_data = []\n",
    "  mean_x = (len(data[0][0]) + 1) / 2\n",
    "  mean_y = (len(data[0][0].T) + 1) / 2\n",
    "  for img in data:\n",
    "    ms = []\n",
    "    for p in range(c+1):\n",
    "      for q in range(c+1):\n",
    "        if p + q <= c:\n",
    "          tmp = np.multiply((np.power(np.arange(len(data[0][0])) - mean_x, p) * np.power(np.arange(len(data[0].T[0] - mean_y)), q)) , img)\n",
    "          ms.append(tmp.sum().sum())\n",
    "    m_data.append(ms)\n",
    "  return np.asarray(m_data)"
   ]
  },
  {
   "cell_type": "code",
   "execution_count": 18,
   "id": "qjlRtK1HE7NZ",
   "metadata": {
    "id": "qjlRtK1HE7NZ"
   },
   "outputs": [],
   "source": [
    "X_train_m = c_momentum(X_train_conv, c  = 3)"
   ]
  },
  {
   "cell_type": "code",
   "execution_count": 19,
   "id": "jpy_GW24m9HN",
   "metadata": {
    "colab": {
     "base_uri": "https://localhost:8080/"
    },
    "id": "jpy_GW24m9HN",
    "outputId": "4a9128c7-8f3a-4569-e9b8-5a6db2709977"
   },
   "outputs": [
    {
     "data": {
      "text/plain": [
       "10"
      ]
     },
     "execution_count": 19,
     "metadata": {},
     "output_type": "execute_result"
    }
   ],
   "source": [
    "len(X_train_m[0])"
   ]
  },
  {
   "cell_type": "code",
   "execution_count": 20,
   "id": "GWm2eQB-fGYZ",
   "metadata": {
    "colab": {
     "base_uri": "https://localhost:8080/"
    },
    "id": "GWm2eQB-fGYZ",
    "outputId": "bd856673-c338-400c-e4df-2862f4248f2d"
   },
   "outputs": [
    {
     "data": {
      "text/plain": [
       "50000"
      ]
     },
     "execution_count": 20,
     "metadata": {},
     "output_type": "execute_result"
    }
   ],
   "source": [
    "len(X_train_m)"
   ]
  },
  {
   "cell_type": "code",
   "execution_count": 21,
   "id": "gUYRk6bBFJOR",
   "metadata": {
    "colab": {
     "base_uri": "https://localhost:8080/"
    },
    "id": "gUYRk6bBFJOR",
    "outputId": "9d2bcdb2-962a-448b-dbd9-c85bade360a6"
   },
   "outputs": [
    {
     "data": {
      "text/plain": [
       "array([ 1.05589000e+05,  1.63695100e+06,  3.37076310e+07,  7.79918347e+08,\n",
       "       -1.05267500e+05,  6.69793950e+06,  2.23742436e+08,  8.43485325e+06,\n",
       "        1.13226434e+08, -2.59486449e+07])"
      ]
     },
     "execution_count": 21,
     "metadata": {},
     "output_type": "execute_result"
    }
   ],
   "source": [
    "X_train_m[0]"
   ]
  },
  {
   "cell_type": "markdown",
   "id": "FVAE3H1KQvak",
   "metadata": {
    "id": "FVAE3H1KQvak"
   },
   "source": [
    "## Spliting the train data into train and validation by 10%"
   ]
  },
  {
   "cell_type": "code",
   "execution_count": 22,
   "id": "lYN02DtKKs16",
   "metadata": {
    "id": "lYN02DtKKs16"
   },
   "outputs": [],
   "source": [
    "from sklearn.model_selection import train_test_split\n",
    "X_trainn, X_val, y_trainn, y_val = train_test_split(X_train_m, y_train, test_size=0.1)"
   ]
  },
  {
   "cell_type": "code",
   "execution_count": 23,
   "id": "yn1oasMBK6Yw",
   "metadata": {
    "colab": {
     "base_uri": "https://localhost:8080/"
    },
    "id": "yn1oasMBK6Yw",
    "outputId": "33d3f519-ef30-4dd7-b47c-8398f100a72b"
   },
   "outputs": [
    {
     "data": {
      "text/plain": [
       "(45000, 5000)"
      ]
     },
     "execution_count": 23,
     "metadata": {},
     "output_type": "execute_result"
    }
   ],
   "source": [
    "len(X_trainn), len(X_val)"
   ]
  },
  {
   "cell_type": "markdown",
   "id": "OmRLALflQ8S0",
   "metadata": {
    "id": "OmRLALflQ8S0"
   },
   "source": [
    "# Building the Model\n"
   ]
  },
  {
   "cell_type": "markdown",
   "id": "_mH7niRCEVNh",
   "metadata": {
    "id": "_mH7niRCEVNh"
   },
   "source": [
    "As we can see below many diffrient models with diffrient hyperparamters couldn't catch the complexity of the model even the SVMs with rbf and polynomial kernal. this might be due to many resons\n",
    "\n",
    "\n",
    "*   Quality of the data, data doesn't have enough information\n",
    "*   simplicity of the models, even tuning the hyper-parapmeters won't add that much\n",
    "*   increasing the number of the instances will not add to much, models are too simple \n",
    "\n",
    "\n",
    "*   CNN as we see below are a much more complex model enabling them to detect patterns, edges, ..etc, perform much better\n",
    "\n",
    "\n",
    "\n"
   ]
  },
  {
   "cell_type": "markdown",
   "id": "zEttRnd1RA6c",
   "metadata": {
    "id": "zEttRnd1RA6c"
   },
   "source": [
    "## SVM"
   ]
  },
  {
   "cell_type": "code",
   "execution_count": 24,
   "id": "XpNW52s1LIip",
   "metadata": {
    "id": "XpNW52s1LIip"
   },
   "outputs": [],
   "source": [
    "from sklearn.svm import SVC\n",
    "from sklearn.metrics import accuracy_score"
   ]
  },
  {
   "cell_type": "code",
   "execution_count": 25,
   "id": "lreMsnq0Rc2t",
   "metadata": {
    "colab": {
     "base_uri": "https://localhost:8080/"
    },
    "id": "lreMsnq0Rc2t",
    "outputId": "2b5b7d33-7dab-4e60-ed45-dfa16f3c3e34"
   },
   "outputs": [
    {
     "data": {
      "text/plain": [
       "SVC(gamma='auto', kernel='sigmoid')"
      ]
     },
     "execution_count": 25,
     "metadata": {},
     "output_type": "execute_result"
    }
   ],
   "source": [
    "svc1 = SVC()\n",
    "svc1.fit(X_trainn, y_trainn.ravel())\n",
    "svc2 = SVC(kernel='poly', degree=3)\n",
    "svc2.fit(X_trainn, y_trainn.ravel())\n",
    "svc3 = SVC(kernel='sigmoid', gamma='auto')\n",
    "svc3.fit(X_trainn, y_trainn.ravel())"
   ]
  },
  {
   "cell_type": "code",
   "execution_count": 26,
   "id": "PaTyibO1UtF5",
   "metadata": {
    "colab": {
     "base_uri": "https://localhost:8080/"
    },
    "id": "PaTyibO1UtF5",
    "outputId": "0baa3c8b-c11b-4cf1-d527-94d401fceb9d"
   },
   "outputs": [
    {
     "name": "stdout",
     "output_type": "stream",
     "text": [
      "0.1738\n",
      "0.1474\n",
      "0.1474\n"
     ]
    }
   ],
   "source": [
    "print(accuracy_score(svc1.predict(X_val), y_val))\n",
    "print(accuracy_score(svc2.predict(X_val), y_val))\n",
    "print(accuracy_score(svc2.predict(X_val), y_val))"
   ]
  },
  {
   "cell_type": "markdown",
   "id": "r_BsNkNQDjYZ",
   "metadata": {
    "id": "r_BsNkNQDjYZ"
   },
   "source": [
    "##Random Forest\n"
   ]
  },
  {
   "cell_type": "code",
   "execution_count": 51,
   "id": "ibJ69I_mDnsq",
   "metadata": {
    "id": "ibJ69I_mDnsq"
   },
   "outputs": [],
   "source": [
    "from sklearn.ensemble import RandomForestClassifier"
   ]
  },
  {
   "cell_type": "code",
   "execution_count": 49,
   "id": "pis2tlg7Dvw2",
   "metadata": {
    "colab": {
     "base_uri": "https://localhost:8080/"
    },
    "id": "pis2tlg7Dvw2",
    "outputId": "b81729e2-d5da-412d-dbdf-47b664c9ab80"
   },
   "outputs": [
    {
     "data": {
      "text/plain": [
       "RandomForestClassifier(criterion='entropy', max_depth=100)"
      ]
     },
     "execution_count": 49,
     "metadata": {},
     "output_type": "execute_result"
    }
   ],
   "source": [
    "forest1 = RandomForestClassifier(criterion='entropy', max_depth=50)\n",
    "forest1.fit(X_trainn, y_trainn.ravel())\n",
    "forest2 = RandomForestClassifier(criterion='gini', max_depth=70)\n",
    "forest2.fit(X_trainn, y_trainn.ravel())\n",
    "forest3 = RandomForestClassifier(criterion='entropy', max_depth=100)\n",
    "forest3.fit(X_trainn, y_trainn.ravel())"
   ]
  },
  {
   "cell_type": "code",
   "execution_count": 50,
   "id": "bFinB4ioEP9d",
   "metadata": {
    "colab": {
     "base_uri": "https://localhost:8080/"
    },
    "id": "bFinB4ioEP9d",
    "outputId": "2a098ddf-51ac-4e2b-fc96-d641a91b0454"
   },
   "outputs": [
    {
     "name": "stdout",
     "output_type": "stream",
     "text": [
      "0.1722\n",
      "0.1694\n",
      "0.174\n"
     ]
    }
   ],
   "source": [
    "print(accuracy_score(forest1.predict(X_val), y_val))\n",
    "print(accuracy_score(forest2.predict(X_val), y_val))\n",
    "print(accuracy_score(forest3.predict(X_val), y_val))"
   ]
  },
  {
   "cell_type": "markdown",
   "id": "EU9kibyaE_Lw",
   "metadata": {
    "id": "EU9kibyaE_Lw"
   },
   "source": [
    "##Decision Tree\n"
   ]
  },
  {
   "cell_type": "code",
   "execution_count": 30,
   "id": "mkEc6Fc8ETn0",
   "metadata": {
    "id": "mkEc6Fc8ETn0"
   },
   "outputs": [],
   "source": [
    "from sklearn.tree import DecisionTreeClassifier"
   ]
  },
  {
   "cell_type": "code",
   "execution_count": 31,
   "id": "eh7U9QsEFFbR",
   "metadata": {
    "colab": {
     "base_uri": "https://localhost:8080/"
    },
    "id": "eh7U9QsEFFbR",
    "outputId": "056e1273-94ed-42df-acaf-e759ebad5edb"
   },
   "outputs": [
    {
     "data": {
      "text/plain": [
       "DecisionTreeClassifier(max_depth=200)"
      ]
     },
     "execution_count": null,
     "metadata": {},
     "output_type": "execute_result"
    }
   ],
   "source": [
    "tree1 = DecisionTreeClassifier(criterion='entropy', max_depth=100)\n",
    "tree1.fit(X_trainn, y_trainn.ravel())\n",
    "tree2 = DecisionTreeClassifier(criterion='entropy', max_depth=150)\n",
    "tree2.fit(X_trainn, y_trainn.ravel())\n",
    "tree3 = DecisionTreeClassifier(criterion='gini', max_depth=200)\n",
    "tree3.fit(X_trainn, y_trainn.ravel())"
   ]
  },
  {
   "cell_type": "code",
   "execution_count": 32,
   "id": "xO5E5VSYFLJK",
   "metadata": {
    "colab": {
     "base_uri": "https://localhost:8080/"
    },
    "id": "xO5E5VSYFLJK",
    "outputId": "d856b131-39c8-408e-90b2-8c2941635801"
   },
   "outputs": [
    {
     "name": "stdout",
     "output_type": "stream",
     "text": [
      "0.1334\n",
      "0.134\n",
      "0.139\n"
     ]
    }
   ],
   "source": [
    "print(accuracy_score(tree1.predict(X_val), y_val))\n",
    "print(accuracy_score(tree2.predict(X_val), y_val))\n",
    "print(accuracy_score(tree3.predict(X_val), y_val))"
   ]
  },
  {
   "cell_type": "markdown",
   "id": "Of5SAIkkFRtw",
   "metadata": {
    "id": "Of5SAIkkFRtw"
   },
   "source": [
    "##KNN\n"
   ]
  },
  {
   "cell_type": "code",
   "execution_count": 33,
   "id": "Jl21DYseFTkm",
   "metadata": {
    "id": "Jl21DYseFTkm"
   },
   "outputs": [],
   "source": [
    "from sklearn.neighbors import KNeighborsClassifier"
   ]
  },
  {
   "cell_type": "code",
   "execution_count": 34,
   "id": "NFJFt_LwFg-A",
   "metadata": {
    "colab": {
     "base_uri": "https://localhost:8080/"
    },
    "id": "NFJFt_LwFg-A",
    "outputId": "f3afca01-c44e-4770-8c5f-decefc3a0025"
   },
   "outputs": [
    {
     "data": {
      "text/plain": [
       "KNeighborsClassifier(n_neighbors=8)"
      ]
     },
     "execution_count": null,
     "metadata": {},
     "output_type": "execute_result"
    }
   ],
   "source": [
    "knn1 = KNeighborsClassifier(n_neighbors=4)\n",
    "knn1.fit(X_trainn, y_trainn.ravel())\n",
    "knn2 = KNeighborsClassifier(n_neighbors=6)\n",
    "knn2.fit(X_trainn, y_trainn.ravel())\n",
    "knn3 = KNeighborsClassifier(n_neighbors=8)\n",
    "knn3.fit(X_trainn, y_trainn.ravel())"
   ]
  },
  {
   "cell_type": "code",
   "execution_count": 35,
   "id": "okUIHVqMFowz",
   "metadata": {
    "colab": {
     "base_uri": "https://localhost:8080/"
    },
    "id": "okUIHVqMFowz",
    "outputId": "1070cbb9-7f1e-4e6a-9022-c4bf58a6f896"
   },
   "outputs": [
    {
     "name": "stdout",
     "output_type": "stream",
     "text": [
      "0.142\n",
      "0.1584\n",
      "0.1612\n"
     ]
    }
   ],
   "source": [
    "print(accuracy_score(knn1.predict(X_val), y_val))\n",
    "print(accuracy_score(knn2.predict(X_val), y_val))\n",
    "print(accuracy_score(knn3.predict(X_val), y_val))"
   ]
  },
  {
   "cell_type": "markdown",
   "id": "Ju6Xo4BqF2r9",
   "metadata": {
    "id": "Ju6Xo4BqF2r9"
   },
   "source": [
    "## ANN"
   ]
  },
  {
   "cell_type": "code",
   "execution_count": 36,
   "id": "-oBF2l8PF41t",
   "metadata": {
    "id": "-oBF2l8PF41t"
   },
   "outputs": [],
   "source": [
    "import tensorflow as tf\n",
    "from tensorflow.keras import Sequential\n",
    "from tensorflow.keras.layers import Dense\n",
    "from tensorflow.keras import models, layers"
   ]
  },
  {
   "cell_type": "code",
   "execution_count": 37,
   "id": "8u77YJTrGOP3",
   "metadata": {
    "id": "8u77YJTrGOP3"
   },
   "outputs": [],
   "source": [
    "model = Sequential()\n",
    "model.add(Dense(5, activation='relu', input_shape=(len(X_trainn[0]),)))\n",
    "model.add(Dense(4, activation='relu'))\n",
    "model.add(Dense(3, activation='relu'))\n",
    "model.add(Dense(10, activation='softmax'))"
   ]
  },
  {
   "cell_type": "code",
   "execution_count": 38,
   "id": "QDB3_fBuPaie",
   "metadata": {
    "id": "QDB3_fBuPaie"
   },
   "outputs": [],
   "source": [
    "model.compile(optimizer='adam', loss=tf.keras.losses.SparseCategoricalCrossentropy(from_logits=True), metrics=['accuracy'])"
   ]
  },
  {
   "cell_type": "code",
   "execution_count": 39,
   "id": "xCWG5BC_Psg1",
   "metadata": {
    "colab": {
     "base_uri": "https://localhost:8080/"
    },
    "id": "xCWG5BC_Psg1",
    "outputId": "9eda1fb6-88cc-4d74-944b-b07f9b3cd60c"
   },
   "outputs": [
    {
     "name": "stdout",
     "output_type": "stream",
     "text": [
      "Model: \"sequential\"\n",
      "_________________________________________________________________\n",
      " Layer (type)                Output Shape              Param #   \n",
      "=================================================================\n",
      " dense (Dense)               (None, 5)                 55        \n",
      "                                                                 \n",
      " dense_1 (Dense)             (None, 4)                 24        \n",
      "                                                                 \n",
      " dense_2 (Dense)             (None, 3)                 15        \n",
      "                                                                 \n",
      " dense_3 (Dense)             (None, 10)                40        \n",
      "                                                                 \n",
      "=================================================================\n",
      "Total params: 134\n",
      "Trainable params: 134\n",
      "Non-trainable params: 0\n",
      "_________________________________________________________________\n"
     ]
    }
   ],
   "source": [
    "model.summary()"
   ]
  },
  {
   "cell_type": "code",
   "execution_count": 40,
   "id": "4vPZ-m6EPugG",
   "metadata": {
    "colab": {
     "base_uri": "https://localhost:8080/"
    },
    "id": "4vPZ-m6EPugG",
    "outputId": "eeeafd2b-f321-4c9a-b942-881ffad44ba9"
   },
   "outputs": [
    {
     "name": "stdout",
     "output_type": "stream",
     "text": [
      "Epoch 1/10\n"
     ]
    },
    {
     "name": "stderr",
     "output_type": "stream",
     "text": [
      "/usr/local/lib/python3.7/dist-packages/tensorflow/python/util/dispatch.py:1096: UserWarning: \"`sparse_categorical_crossentropy` received `from_logits=True`, but the `output` argument was produced by a sigmoid or softmax activation and thus does not represent logits. Was this intended?\"\n",
      "  return dispatch_target(*args, **kwargs)\n"
     ]
    },
    {
     "name": "stdout",
     "output_type": "stream",
     "text": [
      "1407/1407 [==============================] - 2s 1ms/step - loss: 26.6909 - accuracy: 0.0961 - val_loss: 35.7303 - val_accuracy: 0.0924\n",
      "Epoch 2/10\n",
      "1407/1407 [==============================] - 2s 1ms/step - loss: 5.0456 - accuracy: 0.0991 - val_loss: 12.3827 - val_accuracy: 0.1010\n",
      "Epoch 3/10\n",
      "1407/1407 [==============================] - 2s 1ms/step - loss: 3.9109 - accuracy: 0.0980 - val_loss: 2.3027 - val_accuracy: 0.0924\n",
      "Epoch 4/10\n",
      "1407/1407 [==============================] - 2s 1ms/step - loss: 2.3573 - accuracy: 0.0981 - val_loss: 2.3031 - val_accuracy: 0.0924\n",
      "Epoch 5/10\n",
      "1407/1407 [==============================] - 2s 1ms/step - loss: 2.3027 - accuracy: 0.0977 - val_loss: 2.3026 - val_accuracy: 0.1016\n",
      "Epoch 6/10\n",
      "1407/1407 [==============================] - 2s 1ms/step - loss: 2.3028 - accuracy: 0.0990 - val_loss: 2.3028 - val_accuracy: 0.0982\n",
      "Epoch 7/10\n",
      "1407/1407 [==============================] - 2s 1ms/step - loss: 2.3028 - accuracy: 0.0986 - val_loss: 2.3029 - val_accuracy: 0.0982\n",
      "Epoch 8/10\n",
      "1407/1407 [==============================] - 2s 1ms/step - loss: 2.3028 - accuracy: 0.0992 - val_loss: 2.3028 - val_accuracy: 0.0930\n",
      "Epoch 9/10\n",
      "1407/1407 [==============================] - 2s 1ms/step - loss: 2.3028 - accuracy: 0.0987 - val_loss: 2.3029 - val_accuracy: 0.0924\n",
      "Epoch 10/10\n",
      "1407/1407 [==============================] - 2s 1ms/step - loss: 2.3028 - accuracy: 0.0980 - val_loss: 2.3029 - val_accuracy: 0.0924\n"
     ]
    }
   ],
   "source": [
    "history = model.fit(X_trainn, y_trainn, epochs=10, \n",
    "                    validation_data=(X_val, y_val))"
   ]
  },
  {
   "cell_type": "markdown",
   "id": "X1xmVWMaUzdE",
   "metadata": {
    "id": "X1xmVWMaUzdE"
   },
   "source": [
    "CNN on the normal data"
   ]
  },
  {
   "cell_type": "code",
   "execution_count": 41,
   "id": "l3YvaepRU16H",
   "metadata": {
    "id": "l3YvaepRU16H"
   },
   "outputs": [],
   "source": [
    "model2 = models.Sequential()\n",
    "model2.add(layers.Conv2D(32, (3, 3), activation='relu', input_shape=(32, 32, 3)))\n",
    "model2.add(layers.MaxPooling2D((2, 2)))\n",
    "model2.add(layers.Conv2D(64, (3, 3), activation='relu'))\n",
    "model2.add(layers.MaxPooling2D((2, 2)))\n",
    "model2.add(layers.Conv2D(64, (3, 3), activation='relu'))\n"
   ]
  },
  {
   "cell_type": "code",
   "execution_count": 42,
   "id": "VE9n_NXoVAPJ",
   "metadata": {
    "id": "VE9n_NXoVAPJ"
   },
   "outputs": [],
   "source": [
    "model2.add(layers.Flatten())\n",
    "model2.add(layers.Dense(64, activation='relu'))\n",
    "model2.add(layers.Dense(10))"
   ]
  },
  {
   "cell_type": "code",
   "execution_count": 43,
   "id": "6VC2T6BoVZ6Q",
   "metadata": {
    "colab": {
     "base_uri": "https://localhost:8080/"
    },
    "id": "6VC2T6BoVZ6Q",
    "outputId": "dab76e01-3aee-4ce9-dfc1-dbc463856ed8"
   },
   "outputs": [
    {
     "name": "stdout",
     "output_type": "stream",
     "text": [
      "Model: \"sequential_1\"\n",
      "_________________________________________________________________\n",
      " Layer (type)                Output Shape              Param #   \n",
      "=================================================================\n",
      " conv2d (Conv2D)             (None, 30, 30, 32)        896       \n",
      "                                                                 \n",
      " max_pooling2d (MaxPooling2D  (None, 15, 15, 32)       0         \n",
      " )                                                               \n",
      "                                                                 \n",
      " conv2d_1 (Conv2D)           (None, 13, 13, 64)        18496     \n",
      "                                                                 \n",
      " max_pooling2d_1 (MaxPooling  (None, 6, 6, 64)         0         \n",
      " 2D)                                                             \n",
      "                                                                 \n",
      " conv2d_2 (Conv2D)           (None, 4, 4, 64)          36928     \n",
      "                                                                 \n",
      " flatten (Flatten)           (None, 1024)              0         \n",
      "                                                                 \n",
      " dense_4 (Dense)             (None, 64)                65600     \n",
      "                                                                 \n",
      " dense_5 (Dense)             (None, 10)                650       \n",
      "                                                                 \n",
      "=================================================================\n",
      "Total params: 122,570\n",
      "Trainable params: 122,570\n",
      "Non-trainable params: 0\n",
      "_________________________________________________________________\n"
     ]
    }
   ],
   "source": [
    "model2.summary()"
   ]
  },
  {
   "cell_type": "code",
   "execution_count": 44,
   "id": "RjqCjJvWVdUz",
   "metadata": {
    "colab": {
     "base_uri": "https://localhost:8080/"
    },
    "id": "RjqCjJvWVdUz",
    "outputId": "f66550f9-84f9-43cf-e782-4ea92ab14f17"
   },
   "outputs": [
    {
     "name": "stdout",
     "output_type": "stream",
     "text": [
      "Epoch 1/10\n",
      "1563/1563 [==============================] - 51s 32ms/step - loss: 1.9385 - accuracy: 0.3407 - val_loss: 1.5169 - val_accuracy: 0.4356\n",
      "Epoch 2/10\n",
      "1563/1563 [==============================] - 49s 31ms/step - loss: 1.4276 - accuracy: 0.4868 - val_loss: 1.4158 - val_accuracy: 0.5091\n",
      "Epoch 3/10\n",
      "1563/1563 [==============================] - 49s 31ms/step - loss: 1.2560 - accuracy: 0.5516 - val_loss: 1.2147 - val_accuracy: 0.5664\n",
      "Epoch 4/10\n",
      "1563/1563 [==============================] - 50s 32ms/step - loss: 1.1488 - accuracy: 0.5966 - val_loss: 1.1514 - val_accuracy: 0.5989\n",
      "Epoch 5/10\n",
      "1563/1563 [==============================] - 51s 33ms/step - loss: 1.0554 - accuracy: 0.6330 - val_loss: 1.1817 - val_accuracy: 0.5911\n",
      "Epoch 6/10\n",
      "1563/1563 [==============================] - 51s 33ms/step - loss: 0.9793 - accuracy: 0.6587 - val_loss: 1.0682 - val_accuracy: 0.6389\n",
      "Epoch 7/10\n",
      "1563/1563 [==============================] - 51s 33ms/step - loss: 0.9167 - accuracy: 0.6802 - val_loss: 1.0581 - val_accuracy: 0.6408\n",
      "Epoch 8/10\n",
      "1563/1563 [==============================] - 51s 32ms/step - loss: 0.8547 - accuracy: 0.7022 - val_loss: 1.0717 - val_accuracy: 0.6489\n",
      "Epoch 9/10\n",
      "1563/1563 [==============================] - 51s 33ms/step - loss: 0.8023 - accuracy: 0.7201 - val_loss: 1.0674 - val_accuracy: 0.6542\n",
      "Epoch 10/10\n",
      "1563/1563 [==============================] - 51s 33ms/step - loss: 0.7584 - accuracy: 0.7348 - val_loss: 1.0863 - val_accuracy: 0.6545\n"
     ]
    }
   ],
   "source": [
    "model2.compile(optimizer='adam',\n",
    "              loss=tf.keras.losses.SparseCategoricalCrossentropy(from_logits=True),\n",
    "              metrics=['accuracy'])\n",
    "\n",
    "history = model2.fit(X_train, y_train, epochs=10, \n",
    "                    validation_data=(X_test, y_test))\n"
   ]
  },
  {
   "cell_type": "code",
   "execution_count": 45,
   "id": "2LICM9_MVqx_",
   "metadata": {
    "colab": {
     "base_uri": "https://localhost:8080/",
     "height": 301
    },
    "id": "2LICM9_MVqx_",
    "outputId": "0a65a7e0-dac8-48c9-821e-246f4d4c0710"
   },
   "outputs": [
    {
     "name": "stdout",
     "output_type": "stream",
     "text": [
      "313/313 - 3s - loss: 1.0863 - accuracy: 0.6545 - 3s/epoch - 9ms/step\n"
     ]
    },
    {
     "data": {
      "image/png": "[encoded data removed]",
      "text/plain": [
       "<Figure size 432x288 with 1 Axes>"
      ]
     },
     "metadata": {
      "needs_background": "light"
     },
     "output_type": "display_data"
    }
   ],
   "source": [
    "plt.plot(history.history['accuracy'], label='accuracy')\n",
    "plt.plot(history.history['val_accuracy'], label = 'val_accuracy')\n",
    "plt.xlabel('Epoch')\n",
    "plt.ylabel('Accuracy')\n",
    "plt.ylim([0.5, 1])\n",
    "plt.legend(loc='lower right')\n",
    "\n",
    "test_loss, test_acc = model2.evaluate(X_test,  y_test, verbose=2)\n"
   ]
  },
  {
   "cell_type": "markdown",
   "id": "RTiGhWQzbc2t",
   "metadata": {
    "id": "RTiGhWQzbc2t"
   },
   "source": [
    "# Error Analysis"
   ]
  },
  {
   "cell_type": "code",
   "execution_count": 46,
   "id": "ux1tZs-XZi6C",
   "metadata": {
    "id": "ux1tZs-XZi6C"
   },
   "outputs": [],
   "source": [
    "from sklearn.metrics import confusion_matrix\n",
    "from sklearn import metrics"
   ]
  },
  {
   "cell_type": "code",
   "execution_count": 47,
   "id": "3EfqJ-Ig_YVh",
   "metadata": {
    "id": "3EfqJ-Ig_YVh"
   },
   "outputs": [],
   "source": [
    "def plot_confusion_matrix(cm, names, title='Confusion matrix', cmap=plt.cm.Blues):\n",
    "    plt.imshow(cm, interpolation='nearest', cmap=cmap)\n",
    "    plt.title(title)\n",
    "    plt.colorbar()\n",
    "    tick_marks = np.arange(len(names))\n",
    "    plt.xticks(tick_marks, names, rotation=90)\n",
    "    plt.yticks(tick_marks, names)\n",
    "    plt.tight_layout()\n",
    "    plt.ylabel('True label')\n",
    "    plt.xlabel('Predicted label')"
   ]
  },
  {
   "cell_type": "code",
   "execution_count": 53,
   "id": "j7gm8K-_9bI-",
   "metadata": {
    "colab": {
     "base_uri": "https://localhost:8080/",
     "height": 892
    },
    "id": "j7gm8K-_9bI-",
    "outputId": "8d904ca0-a9a9-407a-d430-a7a3eb4c2814"
   },
   "outputs": [
    {
     "name": "stdout",
     "output_type": "stream",
     "text": [
      "-----------------Convolutional Neural Network Report---------------\n",
      "F1 score: 0.651522894478142\n",
      "Accuracy score: 0.6545\n",
      "Confusion matrix: \n",
      " [[611  36  67  23  29   7  14  21 165  27]\n",
      " [ 17 824   7   6   7   9   7   5  46  72]\n",
      " [ 59   8 509  82 125  66  52  61  28  10]\n",
      " [ 15  14  67 444 102 143  75  62  56  22]\n",
      " [ 16   8  69  70 612  29  53 115  25   3]\n",
      " [ 13   3  70 174  48 516  27 112  26  11]\n",
      " [  4  11  55  92  57  15 721  15  19  11]\n",
      " [ 11   3  34  27  70  62   8 760  12  13]\n",
      " [ 49  42  11  10  12   6   4   4 852  10]\n",
      " [ 29 116  11  13   8   6   7  32  82 696]]\n",
      "Plotting confusion matrix\n"
     ]
    },
    {
     "data": {
      "image/png": "[encoded data removed]",
      "text/plain": [
       "<Figure size 432x288 with 2 Axes>"
      ]
     },
     "metadata": {
      "needs_background": "light"
     },
     "output_type": "display_data"
    },
    {
     "name": "stdout",
     "output_type": "stream",
     "text": [
      "              precision    recall  f1-score   support\n",
      "\n",
      "           0       0.74      0.61      0.67      1000\n",
      "           1       0.77      0.82      0.80      1000\n",
      "           2       0.57      0.51      0.54      1000\n",
      "           3       0.47      0.44      0.46      1000\n",
      "           4       0.57      0.61      0.59      1000\n",
      "           5       0.60      0.52      0.56      1000\n",
      "           6       0.74      0.72      0.73      1000\n",
      "           7       0.64      0.76      0.70      1000\n",
      "           8       0.65      0.85      0.74      1000\n",
      "           9       0.80      0.70      0.74      1000\n",
      "\n",
      "    accuracy                           0.65     10000\n",
      "   macro avg       0.66      0.65      0.65     10000\n",
      "weighted avg       0.66      0.65      0.65     10000\n",
      "\n"
     ]
    }
   ],
   "source": [
    "cnn_pred = model2.predict(X_test)\n",
    "cnn_pred = np.argmax(cnn_pred,axis=1)\n",
    "\n",
    "cnn_f1 = metrics.f1_score(y_test, cnn_pred, average= \"weighted\")\n",
    "cnn_accuracy= metrics.accuracy_score(y_test, cnn_pred)\n",
    "cnn_cm = metrics.confusion_matrix(y_test, cnn_pred)\n",
    "print(\"-----------------Convolutional Neural Network Report---------------\")\n",
    "print(\"F1 score: {}\".format(cnn_f1))\n",
    "print(\"Accuracy score: {}\".format(cnn_accuracy))\n",
    "print(\"Confusion matrix: \\n\", cnn_cm)\n",
    "print('Plotting confusion matrix')\n",
    "\n",
    "plt.figure()\n",
    "plot_confusion_matrix(cnn_cm, labelNames)\n",
    "plt.show()\n",
    "\n",
    "print(metrics.classification_report(y_test, cnn_pred))"
   ]
  },
  {
   "cell_type": "code",
   "execution_count": 54,
   "id": "3CxQXZ_U1sqB",
   "metadata": {
    "id": "3CxQXZ_U1sqB"
   },
   "outputs": [],
   "source": [
    "X_test_transformed = convert(X_test)\n",
    "X_test_m = c_momentum(X_test_transformed, c  = 3)\n",
    "y_test = y_test.ravel()"
   ]
  },
  {
   "cell_type": "code",
   "execution_count": 56,
   "id": "Um3voWv-56DX",
   "metadata": {
    "colab": {
     "base_uri": "https://localhost:8080/",
     "height": 892
    },
    "id": "Um3voWv-56DX",
    "outputId": "59b09671-be3b-4075-a985-845d96da617e"
   },
   "outputs": [
    {
     "name": "stdout",
     "output_type": "stream",
     "text": [
      "-----------------SVM Report---------------\n",
      "F1 score: 0.15671022335745674\n",
      "Accuracy score: 0.1853\n",
      "Confusion matrix: \n",
      " [[401   0   0   3 104   9  68 123 243  49]\n",
      " [142   0   0   7 183  32 248 192 113  83]\n",
      " [168   0   0  14 178  29 196 169 135 111]\n",
      " [144   1   0  41 141  94 227 151 108  93]\n",
      " [ 63   0   0  10 238  19 261 224 124  61]\n",
      " [110   1   0  20 152 170 169 118 173  87]\n",
      " [ 99   0   0  11 218  28 337 165  72  70]\n",
      " [120   0   0  13 184  45 139 228 155 116]\n",
      " [221   0   1   4 137  48  75 165 287  62]\n",
      " [160   0   0   6 163  32  91 202 195 151]]\n",
      "Plotting confusion matrix\n"
     ]
    },
    {
     "data": {
      "image/png": "[encoded data removed]",
      "text/plain": [
       "<Figure size 432x288 with 2 Axes>"
      ]
     },
     "metadata": {
      "needs_background": "light"
     },
     "output_type": "display_data"
    },
    {
     "name": "stdout",
     "output_type": "stream",
     "text": [
      "              precision    recall  f1-score   support\n",
      "\n",
      "           0       0.25      0.40      0.31      1000\n",
      "           1       0.00      0.00      0.00      1000\n",
      "           2       0.00      0.00      0.00      1000\n",
      "           3       0.32      0.04      0.07      1000\n",
      "           4       0.14      0.24      0.18      1000\n",
      "           5       0.34      0.17      0.23      1000\n",
      "           6       0.19      0.34      0.24      1000\n",
      "           7       0.13      0.23      0.17      1000\n",
      "           8       0.18      0.29      0.22      1000\n",
      "           9       0.17      0.15      0.16      1000\n",
      "\n",
      "    accuracy                           0.19     10000\n",
      "   macro avg       0.17      0.19      0.16     10000\n",
      "weighted avg       0.17      0.19      0.16     10000\n",
      "\n"
     ]
    }
   ],
   "source": [
    "# SVM report and analysis\n",
    "y_pred_svc = svc1.predict(X_test_m)\n",
    "svc_f1 = metrics.f1_score(y_test, y_pred_svc, average= \"weighted\")\n",
    "svc_accuracy = metrics.accuracy_score(y_test, y_pred_svc)\n",
    "svc_cm = metrics.confusion_matrix(y_test, y_pred_svc)\n",
    "print(\"-----------------SVM Report---------------\")\n",
    "print(\"F1 score: {}\".format(svc_f1))\n",
    "print(\"Accuracy score: {}\".format(svc_accuracy))\n",
    "print(\"Confusion matrix: \\n\", svc_cm)\n",
    "print('Plotting confusion matrix')\n",
    "\n",
    "plt.figure()\n",
    "plot_confusion_matrix(svc_cm, labelNames)\n",
    "plt.show()\n",
    "\n",
    "print(metrics.classification_report(y_test, y_pred_svc))"
   ]
  },
  {
   "cell_type": "code",
   "execution_count": 57,
   "id": "oWkmnVFg7JmB",
   "metadata": {
    "colab": {
     "base_uri": "https://localhost:8080/",
     "height": 892
    },
    "id": "oWkmnVFg7JmB",
    "outputId": "ba1f27c8-7bd2-4b0e-c56b-32328c4f0661"
   },
   "outputs": [
    {
     "name": "stdout",
     "output_type": "stream",
     "text": [
      "-----------------RandomForest Report---------------\n",
      "F1 score: 0.1775792594207797\n",
      "Accuracy score: 0.18\n",
      "Confusion matrix: \n",
      " [[346  74  82  40  86  42  63  75 135  57]\n",
      " [118 122 105  81 116  67 115  92  78 106]\n",
      " [121  94  94  79 129  77 116  97  91 102]\n",
      " [ 79  91  78 174  78 153  85  71  83 108]\n",
      " [ 99  97  93  61 167  64 152 122  79  66]\n",
      " [ 75  90  60 138  57 256  95  63  74  92]\n",
      " [ 63 130  95  88 150  71 173  84  54  92]\n",
      " [ 93  99  72  99 114  94  87 140  86 116]\n",
      " [196  74  69  79  76  85  68  84 166 103]\n",
      " [ 78 119  79  99  85  86  78 108 106 162]]\n",
      "Plotting confusion matrix\n"
     ]
    },
    {
     "data": {
      "image/png": "[encoded data removed]",
      "text/plain": [
       "<Figure size 432x288 with 2 Axes>"
      ]
     },
     "metadata": {
      "needs_background": "light"
     },
     "output_type": "display_data"
    },
    {
     "name": "stdout",
     "output_type": "stream",
     "text": [
      "              precision    recall  f1-score   support\n",
      "\n",
      "           0       0.27      0.35      0.31      1000\n",
      "           1       0.12      0.12      0.12      1000\n",
      "           2       0.11      0.09      0.10      1000\n",
      "           3       0.19      0.17      0.18      1000\n",
      "           4       0.16      0.17      0.16      1000\n",
      "           5       0.26      0.26      0.26      1000\n",
      "           6       0.17      0.17      0.17      1000\n",
      "           7       0.15      0.14      0.14      1000\n",
      "           8       0.17      0.17      0.17      1000\n",
      "           9       0.16      0.16      0.16      1000\n",
      "\n",
      "    accuracy                           0.18     10000\n",
      "   macro avg       0.18      0.18      0.18     10000\n",
      "weighted avg       0.18      0.18      0.18     10000\n",
      "\n"
     ]
    }
   ],
   "source": [
    "# RandomForest report and analysis\n",
    "y_pred_forest = forest1.predict(X_test_m)\n",
    "forest_f1 = metrics.f1_score(y_test, y_pred_forest, average= \"weighted\")\n",
    "forest_accuracy = metrics.accuracy_score(y_test, y_pred_forest)\n",
    "forest_cm = metrics.confusion_matrix(y_test, y_pred_forest)\n",
    "print(\"-----------------RandomForest Report---------------\")\n",
    "print(\"F1 score: {}\".format(forest_f1))\n",
    "print(\"Accuracy score: {}\".format(forest_accuracy))\n",
    "print(\"Confusion matrix: \\n\", forest_cm)\n",
    "print('Plotting confusion matrix')\n",
    "\n",
    "plt.figure()\n",
    "plot_confusion_matrix(forest_cm, labelNames)\n",
    "plt.show()\n",
    "\n",
    "print(metrics.classification_report(y_test, y_pred_forest))"
   ]
  },
  {
   "cell_type": "code",
   "execution_count": 58,
   "id": "evI00BE17KbQ",
   "metadata": {
    "colab": {
     "base_uri": "https://localhost:8080/",
     "height": 892
    },
    "id": "evI00BE17KbQ",
    "outputId": "8926ef18-b159-4749-b203-908204f20a50"
   },
   "outputs": [
    {
     "name": "stdout",
     "output_type": "stream",
     "text": [
      "-----------------KNN Report---------------\n",
      "F1 score: 0.16666178352996658\n",
      "Accuracy score: 0.1731\n",
      "Confusion matrix: \n",
      " [[405  98  90  41  75  43  55  51 105  37]\n",
      " [151 205 116  85 114  57 103  52  59  58]\n",
      " [171 165 128  88 121  49  90  70  73  45]\n",
      " [124 155  83 172  96 112  85  54  54  65]\n",
      " [131 154 121  66 175  51 117  80  68  37]\n",
      " [110 139  75 139  74 196  69  60  88  50]\n",
      " [113 197 123  83 123  64 146  68  37  46]\n",
      " [147 152 114  82 128  76  62 101  76  62]\n",
      " [261 130  98  69  90  76  49  47 116  64]\n",
      " [155 169  99 105  84  66  77  85  73  87]]\n",
      "Plotting confusion matrix\n"
     ]
    },
    {
     "data": {
      "image/png": "[encoded data removed]",
      "text/plain": [
       "<Figure size 432x288 with 2 Axes>"
      ]
     },
     "metadata": {
      "needs_background": "light"
     },
     "output_type": "display_data"
    },
    {
     "name": "stdout",
     "output_type": "stream",
     "text": [
      "              precision    recall  f1-score   support\n",
      "\n",
      "           0       0.23      0.41      0.29      1000\n",
      "           1       0.13      0.20      0.16      1000\n",
      "           2       0.12      0.13      0.13      1000\n",
      "           3       0.18      0.17      0.18      1000\n",
      "           4       0.16      0.17      0.17      1000\n",
      "           5       0.25      0.20      0.22      1000\n",
      "           6       0.17      0.15      0.16      1000\n",
      "           7       0.15      0.10      0.12      1000\n",
      "           8       0.15      0.12      0.13      1000\n",
      "           9       0.16      0.09      0.11      1000\n",
      "\n",
      "    accuracy                           0.17     10000\n",
      "   macro avg       0.17      0.17      0.17     10000\n",
      "weighted avg       0.17      0.17      0.17     10000\n",
      "\n"
     ]
    }
   ],
   "source": [
    "# KNN report and analysis\n",
    "y_pred_knn = knn3.predict(X_test_m)\n",
    "knn_f1 = metrics.f1_score(y_test, y_pred_knn, average= \"weighted\")\n",
    "knn_accuracy = metrics.accuracy_score(y_test, y_pred_knn)\n",
    "knn_cm = metrics.confusion_matrix(y_test, y_pred_knn)\n",
    "print(\"-----------------KNN Report---------------\")\n",
    "print(\"F1 score: {}\".format(knn_f1))\n",
    "print(\"Accuracy score: {}\".format(knn_accuracy))\n",
    "print(\"Confusion matrix: \\n\", knn_cm)\n",
    "print('Plotting confusion matrix')\n",
    "\n",
    "plt.figure()\n",
    "plot_confusion_matrix(knn_cm, labelNames)\n",
    "plt.show()\n",
    "\n",
    "print(metrics.classification_report(y_test, y_pred_knn))"
   ]
  },
  {
   "cell_type": "code",
   "execution_count": 59,
   "id": "zCJAxTzM1cfN",
   "metadata": {
    "colab": {
     "base_uri": "https://localhost:8080/",
     "height": 892
    },
    "id": "zCJAxTzM1cfN",
    "outputId": "ed690e68-7ec5-4d90-e1fd-e2c848d97760"
   },
   "outputs": [
    {
     "name": "stdout",
     "output_type": "stream",
     "text": [
      "-----------------DecisionTree Report---------------\n",
      "F1 score: 0.1436535192260735\n",
      "Accuracy score: 0.1436\n",
      "Confusion matrix: \n",
      " [[207 101  86  71 111  57  73  79 138  77]\n",
      " [101 124 109  97 104  70 103  92  90 110]\n",
      " [ 97 109 114  88 115  72 107  94  92 112]\n",
      " [ 83  95 107 149  80 133  89  86  81  97]\n",
      " [103 115  87  78 140  70 127  86 100  94]\n",
      " [ 67 100  78 146  78 172  76  80  90 113]\n",
      " [ 73 119 104  91 127  94 140  92  67  93]\n",
      " [ 82 113  83  79 108  85 108 117 114 111]\n",
      " [133  85  99  99  83  81  83  93 140 104]\n",
      " [ 82 116 102 111  90  92  71 111  92 133]]\n",
      "Plotting confusion matrix\n"
     ]
    },
    {
     "data": {
      "image/png": "[encoded data removed]",
      "text/plain": [
       "<Figure size 432x288 with 2 Axes>"
      ]
     },
     "metadata": {
      "needs_background": "light"
     },
     "output_type": "display_data"
    },
    {
     "name": "stdout",
     "output_type": "stream",
     "text": [
      "              precision    recall  f1-score   support\n",
      "\n",
      "           0       0.20      0.21      0.20      1000\n",
      "           1       0.12      0.12      0.12      1000\n",
      "           2       0.12      0.11      0.12      1000\n",
      "           3       0.15      0.15      0.15      1000\n",
      "           4       0.14      0.14      0.14      1000\n",
      "           5       0.19      0.17      0.18      1000\n",
      "           6       0.14      0.14      0.14      1000\n",
      "           7       0.13      0.12      0.12      1000\n",
      "           8       0.14      0.14      0.14      1000\n",
      "           9       0.13      0.13      0.13      1000\n",
      "\n",
      "    accuracy                           0.14     10000\n",
      "   macro avg       0.14      0.14      0.14     10000\n",
      "weighted avg       0.14      0.14      0.14     10000\n",
      "\n"
     ]
    }
   ],
   "source": [
    "# DecisionTree report and analysis\n",
    "y_pred_tree = tree3.predict(X_test_m)\n",
    "tree_f1 = metrics.f1_score(y_test, y_pred_tree, average= \"weighted\")\n",
    "tree_accuracy = metrics.accuracy_score(y_test, y_pred_tree)\n",
    "tree_cm = metrics.confusion_matrix(y_test, y_pred_tree)\n",
    "print(\"-----------------DecisionTree Report---------------\")\n",
    "print(\"F1 score: {}\".format(tree_f1))\n",
    "print(\"Accuracy score: {}\".format(tree_accuracy))\n",
    "print(\"Confusion matrix: \\n\", tree_cm)\n",
    "print('Plotting confusion matrix')\n",
    "\n",
    "plt.figure()\n",
    "plot_confusion_matrix(tree_cm, labelNames)\n",
    "plt.show()\n",
    "\n",
    "print(metrics.classification_report(y_test, y_pred_tree))"
   ]
  },
  {
   "cell_type": "code",
   "execution_count": 65,
   "id": "LVX6kj9qISs3",
   "metadata": {
    "colab": {
     "base_uri": "https://localhost:8080/"
    },
    "id": "LVX6kj9qISs3",
    "outputId": "0c07daa2-5f54-4bac-f518-08956a6bf043"
   },
   "outputs": [
    {
     "name": "stdout",
     "output_type": "stream",
     "text": [
      "[0.6545, 0.1853, 0.18, 0.1731, 0.1436]\n",
      "['CNN', 'SVC', 'RandomForest', 'Knn', 'DecisionTree']\n"
     ]
    }
   ],
   "source": [
    "scores = [cnn_accuracy, svc_accuracy, forest_accuracy, knn_accuracy, tree_accuracy]\n",
    "models = [\"CNN\", \"SVC\", \"RandomForest\", \"Knn\", \"DecisionTree\"]\n",
    "print(scores)\n",
    "print(models)"
   ]
  },
  {
   "cell_type": "code",
   "execution_count": 71,
   "id": "xpHT51j1O9vD",
   "metadata": {
    "colab": {
     "base_uri": "https://localhost:8080/",
     "height": 265
    },
    "id": "xpHT51j1O9vD",
    "outputId": "b93ef73b-226e-4f87-be1b-814ad702aeaa"
   },
   "outputs": [
    {
     "data": {
      "image/png": "[encoded data removed]",
      "text/plain": [
       "<Figure size 432x288 with 1 Axes>"
      ]
     },
     "metadata": {
      "needs_background": "light"
     },
     "output_type": "display_data"
    }
   ],
   "source": [
    "plt.bar(models, scores)\n",
    "plt.show()"
   ]
  },
  {
   "cell_type": "markdown",
   "id": "cPp6-q_8Quv3",
   "metadata": {
    "id": "cPp6-q_8Quv3"
   },
   "source": [
    "From the previous graph, it is clear that the normal models fail to grasp the complexity of the data resulting in poor performance.\n",
    "on the other hand a normal CNN performs well on the test data without a lot of fine tuning, maiking it a good place to start with."
   ]
  }
 ],
 "metadata": {
  "colab": {
   "collapsed_sections": [],
   "name": "Ml_Project.ipynb",
   "provenance": []
  },
  "kernelspec": {
   "display_name": "Python 3",
   "language": "python",
   "name": "python3"
  },
  "language_info": {
   "codemirror_mode": {
    "name": "ipython",
    "version": 3
   },
   "file_extension": ".py",
   "mimetype": "text/x-python",
   "name": "python",
   "nbconvert_exporter": "python",
   "pygments_lexer": "ipython3",
   "version": "3.8.8"
  }
 },
 "nbformat": 4,
 "nbformat_minor": 5
}
