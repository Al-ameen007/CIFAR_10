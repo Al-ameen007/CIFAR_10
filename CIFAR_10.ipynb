{
 "cells": [
  {
   "cell_type": "markdown",
   "id": "ug5JIxQF_XAw",
   "metadata": {
    "id": "ug5JIxQF_XAw"
   },
   "source": [
    "# Theoritcal Foundation of Machine Learning Final Project \n",
    "\n",
    "\n",
    "1.   Youseef Osama Ahmed 20190629\n",
    "2.   Mohamed Alameen AbdAlziz 20190720\n",
    "3.   Osama Khaled Abd-Alghafar\n",
    "4.   Solhof\n",
    "5.   Amira\n",
    "\n"
   ]
  },
  {
   "cell_type": "code",
   "execution_count": null,
   "id": "e201e094",
   "metadata": {
    "id": "e201e094"
   },
   "outputs": [],
   "source": [
    "import numpy as np"
   ]
  },
  {
   "cell_type": "markdown",
   "id": "-Mb3qDer_EAE",
   "metadata": {
    "id": "-Mb3qDer_EAE"
   },
   "source": [
    "# Loading the data\n",
    "Using the keras datasets to load the data, the data is already splitied into train and test sets.\n",
    "We just going to take a portion of the train to make a validation set"
   ]
  },
  {
   "cell_type": "code",
   "execution_count": null,
   "id": "e44f28f7",
   "metadata": {
    "colab": {
     "base_uri": "https://localhost:8080/"
    },
    "id": "e44f28f7",
    "outputId": "5a4a6311-bab8-4f60-889b-6a6cabcf89af"
   },
   "outputs": [
    {
     "name": "stdout",
     "output_type": "stream",
     "text": [
      "Downloading data from https://www.cs.toronto.edu/~kriz/cifar-10-python.tar.gz\n",
      "170500096/170498071 [==============================] - 2s 0us/step\n",
      "170508288/170498071 [==============================] - 2s 0us/step\n"
     ]
    }
   ],
   "source": [
    "from keras.datasets import cifar10\n",
    "(X_train, y_train), (X_test, y_test) = cifar10.load_data()"
   ]
  },
  {
   "cell_type": "markdown",
   "id": "ro010urCCIUO",
   "metadata": {
    "id": "ro010urCCIUO"
   },
   "source": [
    "# Exploring the Data"
   ]
  },
  {
   "cell_type": "code",
   "execution_count": null,
   "id": "IdRT33ujCHw6",
   "metadata": {
    "colab": {
     "base_uri": "https://localhost:8080/",
     "height": 283
    },
    "id": "IdRT33ujCHw6",
    "outputId": "d9895d9a-b80d-417a-a651-5d8bf326597b"
   },
   "outputs": [
    {
     "data": {
      "text/plain": [
       "(<matplotlib.image.AxesImage at 0x7fb53241f1d0>, array([9], dtype=uint8))"
      ]
     },
     "execution_count": 3,
     "metadata": {},
     "output_type": "execute_result"
    },
    {
     "data": {
      "image/png": "[encoded data removed]",
      "text/plain": [
       "<Figure size 432x288 with 1 Axes>"
      ]
     },
     "metadata": {
      "needs_background": "light"
     },
     "output_type": "display_data"
    }
   ],
   "source": [
    "import matplotlib.pyplot as plt\n",
    "index = 88\n",
    "plt.imshow(X_train[index]), y_train[index]"
   ]
  },
  {
   "cell_type": "markdown",
   "id": "4hq9vOyijPbk",
   "metadata": {
    "id": "4hq9vOyijPbk"
   },
   "source": [
    "some image are too bad even a human being can't recognize it given the following image which is suppose to be for a **Deer**"
   ]
  },
  {
   "cell_type": "code",
   "execution_count": null,
   "id": "eRrO6_TTjYI_",
   "metadata": {
    "colab": {
     "base_uri": "https://localhost:8080/",
     "height": 283
    },
    "id": "eRrO6_TTjYI_",
    "outputId": "5c2a0595-d8a5-44cd-ed58-20efffe5b271"
   },
   "outputs": [
    {
     "data": {
      "text/plain": [
       "(<matplotlib.image.AxesImage at 0x7fb531f58250>, array([4], dtype=uint8))"
      ]
     },
     "execution_count": 4,
     "metadata": {},
     "output_type": "execute_result"
    },
    {
     "data": {
      "image/png": "[encoded data removed]",
      "text/plain": [
       "<Figure size 432x288 with 1 Axes>"
      ]
     },
     "metadata": {
      "needs_background": "light"
     },
     "output_type": "display_data"
    }
   ],
   "source": [
    "plt.imshow(X_train[10]), y_train[10]"
   ]
  },
  {
   "cell_type": "code",
   "execution_count": null,
   "id": "P8X5EVEsGt0A",
   "metadata": {
    "id": "P8X5EVEsGt0A"
   },
   "outputs": [],
   "source": [
    "labels = {1:  'airplane',   #back to the documntation\n",
    "          2:  'bird', \n",
    "          3:  'cat', \n",
    "          4:  'deer', \n",
    "          5:  'dog', \n",
    "          6:  'frog', \n",
    "          7:  'horse', \n",
    "          8:  'ship', \n",
    "          9:  'truck'}"
   ]
  },
  {
   "cell_type": "code",
   "execution_count": null,
   "id": "0xnDO51hI4lB",
   "metadata": {
    "colab": {
     "base_uri": "https://localhost:8080/"
    },
    "id": "0xnDO51hI4lB",
    "outputId": "56edb413-c13e-435e-a14e-dffeccbd6ef5"
   },
   "outputs": [
    {
     "data": {
      "text/plain": [
       "{0: 5000,\n",
       " 1: 5000,\n",
       " 2: 5000,\n",
       " 3: 5000,\n",
       " 4: 5000,\n",
       " 5: 5000,\n",
       " 6: 5000,\n",
       " 7: 5000,\n",
       " 8: 5000,\n",
       " 9: 5000}"
      ]
     },
     "execution_count": 6,
     "metadata": {},
     "output_type": "execute_result"
    }
   ],
   "source": [
    "unique, counts = np.unique(y_train, return_counts=True) #all the classes equal to each other\n",
    "dict(zip(unique, counts))"
   ]
  },
  {
   "cell_type": "markdown",
   "id": "AyaWCW3xbZns",
   "metadata": {
    "id": "AyaWCW3xbZns"
   },
   "source": [
    "# Data Preprocessing"
   ]
  },
  {
   "cell_type": "markdown",
   "id": "CXDgnllgowxh",
   "metadata": {
    "id": "CXDgnllgowxh"
   },
   "source": [
    "## Avg Pooling"
   ]
  },
  {
   "cell_type": "markdown",
   "id": "5yTeOWZ2b30u",
   "metadata": {
    "id": "5yTeOWZ2b30u"
   },
   "source": [
    " looking at the first image at the first pixel (0, 0) coordinates,at each pixel we got three RGB values and we are going to replace them by a single value computed by there avreage."
   ]
  },
  {
   "cell_type": "code",
   "execution_count": null,
   "id": "H3lrd0r5bfzN",
   "metadata": {
    "id": "H3lrd0r5bfzN"
   },
   "outputs": [],
   "source": [
    "def avg_pixels(data):\n",
    "  data_avg = data.copy()\n",
    "  for i in range(len(data)): #looping over the data\n",
    "    for x in range(len(data[0])): #looping over the x_coordinates\n",
    "      for y in range(len(data[0][0])): #looping over the y_coordinates\n",
    "        data_avg[i][x][y] = np.average(data[i][x][y])\n",
    "  return data_avg"
   ]
  },
  {
   "cell_type": "code",
   "execution_count": null,
   "id": "Shkm1OKwkohB",
   "metadata": {
    "id": "Shkm1OKwkohB"
   },
   "outputs": [],
   "source": [
    "X_train_avg = avg_pixels(X_train)\n",
    "X_test_avg = avg_pixels(X_test)"
   ]
  },
  {
   "cell_type": "markdown",
   "id": "UeN80xRYj0Ed",
   "metadata": {
    "id": "UeN80xRYj0Ed"
   },
   "source": [
    "After Averging the images there is no change but only converted into gray images like the following examples"
   ]
  },
  {
   "cell_type": "code",
   "execution_count": null,
   "id": "j2UEX0TJlO3W",
   "metadata": {
    "id": "j2UEX0TJlO3W"
   },
   "outputs": [],
   "source": [
    "f, axarr = plt.subplots(2,2)\n",
    "axarr[0,0].imshow(X_train[1])\n",
    "axarr[0,1].imshow(X_train_avg[1])\n",
    "axarr[1,0].imshow(X_train[100])\n",
    "axarr[1,1].imshow(X_train_avg[100])"
   ]
  },
  {
   "cell_type": "markdown",
   "id": "_Cta3hNuxHu0",
   "metadata": {
    "id": "_Cta3hNuxHu0"
   },
   "source": [
    "Since now all the RGB channels got the same value no need to keep them all instead we are going to keep only single chanel, converting each image into 32, 32 matrix, which provide efficent way in computation      \n",
    "ex. the first image at first pixel will get the values (61, 61, 61) so  we will make it one channel (61)"
   ]
  },
  {
   "cell_type": "code",
   "execution_count": null,
   "id": "Zj3vSERnxmCY",
   "metadata": {
    "id": "Zj3vSERnxmCY"
   },
   "outputs": [],
   "source": [
    "X_train_avg[0][0][0]"
   ]
  },
  {
   "cell_type": "code",
   "execution_count": null,
   "id": "IpPzTiJc04A4",
   "metadata": {
    "id": "IpPzTiJc04A4"
   },
   "outputs": [],
   "source": [
    "def convert(data):\n",
    "  imgs = []\n",
    "  for i in range(len(data)):\n",
    "    img = []\n",
    "    for j in range(len(data[0])):\n",
    "      tmp = [int(np.unique(hold)[0]) for hold in X_train_avg[i][j]]\n",
    "      img.append(tmp)\n",
    "    imgs.append(img)\n",
    "  return np.asarray(imgs)"
   ]
  },
  {
   "cell_type": "code",
   "execution_count": null,
   "id": "N59dy16f4TCm",
   "metadata": {
    "id": "N59dy16f4TCm"
   },
   "outputs": [],
   "source": [
    "X_train_conv = convert(X_train_avg)"
   ]
  },
  {
   "cell_type": "markdown",
   "id": "kUgsZhQ46LZy",
   "metadata": {
    "id": "kUgsZhQ46LZy"
   },
   "source": [
    "a sample for converted image into 32 * 32 "
   ]
  },
  {
   "cell_type": "code",
   "execution_count": null,
   "id": "KkdkIq4O6FWf",
   "metadata": {
    "id": "KkdkIq4O6FWf"
   },
   "outputs": [],
   "source": [
    "X_train_conv[0]"
   ]
  },
  {
   "cell_type": "markdown",
   "id": "-2WRNc6OtGXm",
   "metadata": {
    "id": "-2WRNc6OtGXm"
   },
   "source": [
    "## Applying the momentum "
   ]
  },
  {
   "cell_type": "code",
   "execution_count": null,
   "id": "Lc-4mLD3tLm_",
   "metadata": {
    "id": "Lc-4mLD3tLm_"
   },
   "outputs": [],
   "source": [
    "def c_momentum(data, c = 3):\n",
    "  m_data = []\n",
    "  mean_x = (len(data[0][0]) + 1) / 2\n",
    "  mean_y = (len(data[0][0].T) + 1) / 2\n",
    "  for img in data:\n",
    "    ms = []\n",
    "    for p in range(c+1):\n",
    "      for q in range(c+1):\n",
    "        if p + q <= c:\n",
    "          tmp = np.power(np.arange(len(data[0][0])) - mean_x, p) * np.power(np.arange(len(data[0].T[0] - mean_y)), q) * img\n",
    "          ms.append(np.sum(np.sum(tmp)))\n",
    "    m_data.append(ms)\n",
    "  return np.asarray(m_data)"
   ]
  },
  {
   "cell_type": "code",
   "execution_count": null,
   "id": "349b19b7",
   "metadata": {},
   "outputs": [],
   "source": [
    "X_train_m = c_momentum(X_train_conv)"
   ]
  },
  {
   "cell_type": "code",
   "execution_count": null,
   "id": "b9d98c41",
   "metadata": {},
   "outputs": [],
   "source": [
    "X_train_m[0]"
   ]
  },
  {
   "cell_type": "markdown",
   "id": "2XnLWsaFssG-",
   "metadata": {
    "id": "2XnLWsaFssG-"
   },
   "source": [
    "## Spliting the training data into train and validation"
   ]
  },
  {
   "cell_type": "code",
   "execution_count": null,
   "id": "ca2797fc",
   "metadata": {
    "id": "ca2797fc"
   },
   "outputs": [],
   "source": [
    "def train_val_split(data, labels, val_ratio):\n",
    "    shuffled_indices = np.random.permutation(len(data))\n",
    "    val_size = int(len(data) * val_ratio)\n",
    "    val_indices = shuffled_indices[:val_size]\n",
    "    train_indices = shuffled_indices[val_size:]\n",
    "    return (data[train_indices], labels[train_indices], data[val_indices], labels[val_indices])"
   ]
  },
  {
   "cell_type": "code",
   "execution_count": null,
   "id": "4ebd046b",
   "metadata": {
    "id": "4ebd046b"
   },
   "outputs": [],
   "source": [
    "X_train, y_train,  X_val, y_val = train_val_split(X_train, y_train, .10)"
   ]
  },
  {
   "cell_type": "code",
   "execution_count": null,
   "id": "qK8IUndR9sAj",
   "metadata": {
    "id": "qK8IUndR9sAj"
   },
   "outputs": [],
   "source": []
  }
 ],
 "metadata": {
  "colab": {
   "collapsed_sections": [],
   "name": "Copy of CIFAR_10.ipynb",
   "provenance": []
  },
  "kernelspec": {
   "display_name": "Python 3",
   "language": "python",
   "name": "python3"
  },
  "language_info": {
   "codemirror_mode": {
    "name": "ipython",
    "version": 3
   },
   "file_extension": ".py",
   "mimetype": "text/x-python",
   "name": "python",
   "nbconvert_exporter": "python",
   "pygments_lexer": "ipython3",
   "version": "3.8.8"
  }
 },
 "nbformat": 4,
 "nbformat_minor": 5
}
