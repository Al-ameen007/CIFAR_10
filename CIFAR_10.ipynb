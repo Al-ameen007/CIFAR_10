{
 "cells": [
  {
   "cell_type": "code",
   "execution_count": 2,
   "id": "e201e094",
   "metadata": {},
   "outputs": [],
   "source": [
    "from matplotlib import pyplot\n",
    "from keras.datasets import cifar10\n",
    "import numpy as np \n",
    "import pandas as pd"
   ]
  },
  {
   "cell_type": "code",
   "execution_count": 3,
   "id": "e44f28f7",
   "metadata": {},
   "outputs": [],
   "source": [
    "(X_train, y_train), (X_test, y_test) = cifar10.load_data()"
   ]
  },
  {
   "cell_type": "code",
   "execution_count": 4,
   "id": "bafd599f",
   "metadata": {},
   "outputs": [],
   "source": [
    "X_train = X_train.astype('float32')\n",
    "X_test = X_test.astype('float32')"
   ]
  },
  {
   "cell_type": "code",
   "execution_count": 5,
   "id": "92533e96",
   "metadata": {},
   "outputs": [],
   "source": [
    "X_train = X_train.reshape(X_train.shape[0], X_train.shape[1]* X_train.shape[2]* X_train.shape[3])\n",
    "X_test = X_test.reshape(X_test.shape[0], X_test.shape[1] * X_test.shape[2] * X_test.shape[3])\n",
    "y_train = y_train.reshape(y_train.shape[0], )\n",
    "y_test = y_test.reshape(y_test.shape[0], )"
   ]
  },
  {
   "cell_type": "code",
   "execution_count": 10,
   "id": "ca2797fc",
   "metadata": {},
   "outputs": [],
   "source": [
    "def train_val_split(data, labels, val_ratio):\n",
    "    shuffled_indices = np.random.permutation(len(data))\n",
    "    val_size = int(len(data) * val_ratio)\n",
    "    val_indices = shuffled_indices[:val_size]\n",
    "    train_indices = shuffled_indices[val_size:]\n",
    "    return (data[train_indices], labels[train_indices], data[val_indices], labels[val_indices])"
   ]
  },
  {
   "cell_type": "code",
   "execution_count": 11,
   "id": "4ebd046b",
   "metadata": {},
   "outputs": [],
   "source": [
    "X_train, y_train,  X_val, y_val = train_val_split(X_train, y_train, .10)"
   ]
  },
  {
   "cell_type": "code",
   "execution_count": 13,
   "id": "7e24890e",
   "metadata": {},
   "outputs": [
    {
     "name": "stdout",
     "output_type": "stream",
     "text": [
      "(45000, 3072)\n",
      "(10000, 3072)\n",
      "(5000, 3072)\n",
      "(45000,)\n",
      "(10000,)\n",
      "(5000,)\n"
     ]
    }
   ],
   "source": [
    "print(X_train.shape)\n",
    "print(X_test.shape)\n",
    "print(X_val.shape)\n",
    "print(y_train.shape)\n",
    "print(y_test.shape)\n",
    "print(y_val.shape)"
   ]
  },
  {
   "cell_type": "code",
   "execution_count": null,
   "id": "73e0b6d5",
   "metadata": {},
   "outputs": [],
   "source": []
  }
 ],
 "metadata": {
  "kernelspec": {
   "display_name": "Python 3",
   "language": "python",
   "name": "python3"
  },
  "language_info": {
   "codemirror_mode": {
    "name": "ipython",
    "version": 3
   },
   "file_extension": ".py",
   "mimetype": "text/x-python",
   "name": "python",
   "nbconvert_exporter": "python",
   "pygments_lexer": "ipython3",
   "version": "3.8.8"
  }
 },
 "nbformat": 4,
 "nbformat_minor": 5
}
